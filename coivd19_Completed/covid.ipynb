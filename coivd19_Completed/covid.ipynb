{
 "cells": [
  {
   "cell_type": "code",
   "execution_count": 14,
   "metadata": {},
   "outputs": [],
   "source": [
    "import pandas as pd\n",
    "import plotly.express as px\n",
    "import numpy as np\n",
    "import matplotlib.pyplot as plt\n",
    "import seaborn as sns\n",
    "from sklearn.model_selection import train_test_split\n",
    "from sklearn.preprocessing import StandardScaler, LabelEncoder\n",
    "from sklearn.linear_model import LinearRegression\n",
    "from sklearn.tree import DecisionTreeRegressor\n",
    "from sklearn.ensemble import RandomForestRegressor\n",
    "from sklearn.svm import SVR\n",
    "from sklearn.neighbors import KNeighborsRegressor\n",
    "from sklearn.metrics import mean_squared_error, r2_score\n",
    "from tensorflow.keras.models import Sequential\n",
    "from tensorflow.keras.layers import Dense\n",
    "\n"
   ]
  },
  {
   "cell_type": "code",
   "execution_count": 15,
   "metadata": {},
   "outputs": [],
   "source": [
    "data_path = 'covid_19_clean_complete.csv'\n",
    "df = pd.read_csv(data_path)"
   ]
  },
  {
   "cell_type": "code",
   "execution_count": 16,
   "metadata": {},
   "outputs": [
    {
     "name": "stdout",
     "output_type": "stream",
     "text": [
      "<class 'pandas.core.frame.DataFrame'>\n",
      "RangeIndex: 49068 entries, 0 to 49067\n",
      "Data columns (total 10 columns):\n",
      " #   Column          Non-Null Count  Dtype  \n",
      "---  ------          --------------  -----  \n",
      " 0   Province/State  14664 non-null  object \n",
      " 1   Country/Region  49068 non-null  object \n",
      " 2   Lat             49068 non-null  float64\n",
      " 3   Long            49068 non-null  float64\n",
      " 4   Date            49068 non-null  object \n",
      " 5   Confirmed       49068 non-null  int64  \n",
      " 6   Deaths          49068 non-null  int64  \n",
      " 7   Recovered       49068 non-null  int64  \n",
      " 8   Active          49068 non-null  int64  \n",
      " 9   WHO Region      49068 non-null  object \n",
      "dtypes: float64(2), int64(4), object(4)\n",
      "memory usage: 3.7+ MB\n",
      "None\n",
      "Province/State    34404\n",
      "Country/Region        0\n",
      "Lat                   0\n",
      "Long                  0\n",
      "Date                  0\n",
      "Confirmed             0\n",
      "Deaths                0\n",
      "Recovered             0\n",
      "Active                0\n",
      "WHO Region            0\n",
      "dtype: int64\n"
     ]
    }
   ],
   "source": [
    "print(df.info())\n",
    "print(df.isnull().sum())"
   ]
  },
  {
   "cell_type": "code",
   "execution_count": 17,
   "metadata": {},
   "outputs": [
    {
     "data": {
      "application/vnd.plotly.v1+json": {
       "config": {
        "plotlyServerURL": "https://plot.ly"
       },
       "data": [
        {
         "alignmentgroup": "True",
         "hovertemplate": "Country/Region=%{x}<br>Confirmed Cases=%{marker.color}<extra></extra>",
         "legendgroup": "",
         "marker": {
          "color": [
           224345948,
           89524967,
           45408411,
           40883464,
           27404045,
           26748587,
           26745145,
           21210926,
           21059152,
           19339267,
           19263916,
           17903345,
           16935654,
           14946202,
           14132002,
           12833994,
           12362961,
           11168743,
           9356551,
           8754729,
           6893122,
           6377607,
           6281116,
           5167516,
           4973160,
           4678496,
           4450658,
           4426759,
           4142819,
           4057909,
           3855363,
           3696604,
           3658838,
           3502472,
           3214085,
           3120160,
           3093628,
           2972611,
           2755525,
           2677930,
           2571918,
           2559773,
           2495433,
           2430707,
           2378126,
           2363132,
           2170351,
           2034986,
           1952495,
           1936390,
           1755206,
           1647537,
           1634040,
           1587173,
           1376322,
           1305978,
           1273708,
           1246644,
           1228583,
           1179755,
           1156957,
           1146758,
           1134717,
           1008821,
           1002746,
           960247,
           876874,
           844817,
           713167,
           682623,
           678008,
           611062,
           596200,
           586392,
           501355,
           467457,
           464603,
           453036,
           440483,
           427604,
           412231,
           410722,
           403605,
           396634,
           396247,
           383026,
           366527,
           362615,
           357928,
           347151,
           336216,
           333181,
           330678,
           299218,
           233461,
           225972,
           221241,
           219095,
           216505,
           216346,
           207296,
           206646,
           198659,
           196702,
           188762,
           186132,
           176429,
           175979,
           173602,
           166865,
           166607,
           156373,
           153258,
           151494,
           137545,
           129421,
           126590,
           122994,
           118818,
           118383,
           107176,
           102223,
           101609,
           96153,
           95846,
           94742,
           94404,
           93144,
           89666,
           85213,
           82732,
           74949,
           72422,
           71242,
           67483,
           67180,
           64406,
           64226,
           63160,
           62321,
           61392,
           58006,
           56688,
           55593,
           51775,
           50794,
           49327,
           47390,
           46884,
           40675,
           39448,
           32247,
           28836,
           25188,
           22662,
           20946,
           19089,
           18168,
           17079,
           16999,
           15823,
           15306,
           14967,
           12100,
           11993,
           11786,
           11351,
           10652,
           10351,
           6794,
           4971,
           4845,
           4487,
           3977,
           2771,
           2636,
           2487,
           2466,
           2266,
           2236,
           2229,
           2059,
           1772,
           1507,
           1356,
           1185,
           901
          ],
          "coloraxis": "coloraxis",
          "pattern": {
           "shape": ""
          }
         },
         "name": "",
         "offsetgroup": "",
         "orientation": "v",
         "showlegend": false,
         "textposition": "auto",
         "type": "bar",
         "x": [
          "US",
          "Brazil",
          "Russia",
          "India",
          "Spain",
          "United Kingdom",
          "Italy",
          "France",
          "Germany",
          "Iran",
          "Peru",
          "Turkey",
          "Chile",
          "Mexico",
          "China",
          "Pakistan",
          "Saudi Arabia",
          "South Africa",
          "Canada",
          "Bangladesh",
          "Colombia",
          "Qatar",
          "Belgium",
          "Netherlands",
          "Sweden",
          "Ecuador",
          "Argentina",
          "Belarus",
          "Egypt",
          "Indonesia",
          "Portugal",
          "Switzerland",
          "United Arab Emirates",
          "Singapore",
          "Ukraine",
          "Kuwait",
          "Iraq",
          "Philippines",
          "Poland",
          "Israel",
          "Ireland",
          "Oman",
          "Dominican Republic",
          "Kazakhstan",
          "Panama",
          "Romania",
          "Bolivia",
          "Austria",
          "Japan",
          "Afghanistan",
          "Bahrain",
          "South Korea",
          "Nigeria",
          "Armenia",
          "Serbia",
          "Denmark",
          "Guatemala",
          "Ghana",
          "Honduras",
          "Algeria",
          "Moldova",
          "Czechia",
          "Azerbaijan",
          "Norway",
          "Morocco",
          "Australia",
          "Malaysia",
          "Cameroon",
          "Finland",
          "Nepal",
          "Uzbekistan",
          "Cote d'Ivoire",
          "Kyrgyzstan",
          "Sudan",
          "Luxembourg",
          "Senegal",
          "Kenya",
          "El Salvador",
          "North Macedonia",
          "Congo (Kinshasa)",
          "Venezuela",
          "Bulgaria",
          "Guinea",
          "Bosnia and Herzegovina",
          "Hungary",
          "Tajikistan",
          "Thailand",
          "Greece",
          "Ethiopia",
          "Costa Rica",
          "Djibouti",
          "Haiti",
          "Gabon",
          "Croatia",
          "West Bank and Gaza",
          "Kosovo",
          "Iceland",
          "Mauritania",
          "Estonia",
          "Cuba",
          "Madagascar",
          "Somalia",
          "Central African Republic",
          "Albania",
          "Lithuania",
          "Slovenia",
          "Slovakia",
          "New Zealand",
          "Maldives",
          "Sri Lanka",
          "Lebanon",
          "Paraguay",
          "Equatorial Guinea",
          "Mali",
          "Nicaragua",
          "Zambia",
          "Tunisia",
          "Guinea-Bissau",
          "South Sudan",
          "Latvia",
          "Cyprus",
          "Niger",
          "Congo (Brazzaville)",
          "Burkina Faso",
          "Sierra Leone",
          "Uruguay",
          "Andorra",
          "Jordan",
          "Malawi",
          "Georgia",
          "Cabo Verde",
          "San Marino",
          "Montenegro",
          "Rwanda",
          "Malta",
          "Yemen",
          "Benin",
          "Chad",
          "Eswatini",
          "Libya",
          "Jamaica",
          "Mozambique",
          "Uganda",
          "Taiwan*",
          "Liberia",
          "Zimbabwe",
          "Tanzania",
          "Togo",
          "Sao Tome and Principe",
          "Vietnam",
          "Mauritius",
          "Suriname",
          "Namibia",
          "Burma",
          "Angola",
          "Syria",
          "Guyana",
          "Brunei",
          "Cambodia",
          "Mongolia",
          "Comoros",
          "Botswana",
          "Trinidad and Tobago",
          "Bahamas",
          "Monaco",
          "Eritrea",
          "Burundi",
          "Barbados",
          "Liechtenstein",
          "Lesotho",
          "Bhutan",
          "Gambia",
          "Antigua and Barbuda",
          "Seychelles",
          "Saint Vincent and the Grenadines",
          "Belize",
          "Timor-Leste",
          "Grenada",
          "Fiji",
          "Saint Lucia",
          "Laos",
          "Dominica",
          "Saint Kitts and Nevis",
          "Greenland",
          "Holy See",
          "Papua New Guinea",
          "Western Sahara"
         ],
         "xaxis": "x",
         "y": [
          224345948,
          89524967,
          45408411,
          40883464,
          27404045,
          26748587,
          26745145,
          21210926,
          21059152,
          19339267,
          19263916,
          17903345,
          16935654,
          14946202,
          14132002,
          12833994,
          12362961,
          11168743,
          9356551,
          8754729,
          6893122,
          6377607,
          6281116,
          5167516,
          4973160,
          4678496,
          4450658,
          4426759,
          4142819,
          4057909,
          3855363,
          3696604,
          3658838,
          3502472,
          3214085,
          3120160,
          3093628,
          2972611,
          2755525,
          2677930,
          2571918,
          2559773,
          2495433,
          2430707,
          2378126,
          2363132,
          2170351,
          2034986,
          1952495,
          1936390,
          1755206,
          1647537,
          1634040,
          1587173,
          1376322,
          1305978,
          1273708,
          1246644,
          1228583,
          1179755,
          1156957,
          1146758,
          1134717,
          1008821,
          1002746,
          960247,
          876874,
          844817,
          713167,
          682623,
          678008,
          611062,
          596200,
          586392,
          501355,
          467457,
          464603,
          453036,
          440483,
          427604,
          412231,
          410722,
          403605,
          396634,
          396247,
          383026,
          366527,
          362615,
          357928,
          347151,
          336216,
          333181,
          330678,
          299218,
          233461,
          225972,
          221241,
          219095,
          216505,
          216346,
          207296,
          206646,
          198659,
          196702,
          188762,
          186132,
          176429,
          175979,
          173602,
          166865,
          166607,
          156373,
          153258,
          151494,
          137545,
          129421,
          126590,
          122994,
          118818,
          118383,
          107176,
          102223,
          101609,
          96153,
          95846,
          94742,
          94404,
          93144,
          89666,
          85213,
          82732,
          74949,
          72422,
          71242,
          67483,
          67180,
          64406,
          64226,
          63160,
          62321,
          61392,
          58006,
          56688,
          55593,
          51775,
          50794,
          49327,
          47390,
          46884,
          40675,
          39448,
          32247,
          28836,
          25188,
          22662,
          20946,
          19089,
          18168,
          17079,
          16999,
          15823,
          15306,
          14967,
          12100,
          11993,
          11786,
          11351,
          10652,
          10351,
          6794,
          4971,
          4845,
          4487,
          3977,
          2771,
          2636,
          2487,
          2466,
          2266,
          2236,
          2229,
          2059,
          1772,
          1507,
          1356,
          1185,
          901
         ],
         "yaxis": "y"
        }
       ],
       "layout": {
        "barmode": "relative",
        "coloraxis": {
         "colorbar": {
          "title": {
           "text": "Confirmed Cases"
          }
         },
         "colorscale": [
          [
           0,
           "rgb(247,251,255)"
          ],
          [
           0.125,
           "rgb(222,235,247)"
          ],
          [
           0.25,
           "rgb(198,219,239)"
          ],
          [
           0.375,
           "rgb(158,202,225)"
          ],
          [
           0.5,
           "rgb(107,174,214)"
          ],
          [
           0.625,
           "rgb(66,146,198)"
          ],
          [
           0.75,
           "rgb(33,113,181)"
          ],
          [
           0.875,
           "rgb(8,81,156)"
          ],
          [
           1,
           "rgb(8,48,107)"
          ]
         ]
        },
        "legend": {
         "tracegroupgap": 0
        },
        "template": {
         "data": {
          "bar": [
           {
            "error_x": {
             "color": "#2a3f5f"
            },
            "error_y": {
             "color": "#2a3f5f"
            },
            "marker": {
             "line": {
              "color": "#E5ECF6",
              "width": 0.5
             },
             "pattern": {
              "fillmode": "overlay",
              "size": 10,
              "solidity": 0.2
             }
            },
            "type": "bar"
           }
          ],
          "barpolar": [
           {
            "marker": {
             "line": {
              "color": "#E5ECF6",
              "width": 0.5
             },
             "pattern": {
              "fillmode": "overlay",
              "size": 10,
              "solidity": 0.2
             }
            },
            "type": "barpolar"
           }
          ],
          "carpet": [
           {
            "aaxis": {
             "endlinecolor": "#2a3f5f",
             "gridcolor": "white",
             "linecolor": "white",
             "minorgridcolor": "white",
             "startlinecolor": "#2a3f5f"
            },
            "baxis": {
             "endlinecolor": "#2a3f5f",
             "gridcolor": "white",
             "linecolor": "white",
             "minorgridcolor": "white",
             "startlinecolor": "#2a3f5f"
            },
            "type": "carpet"
           }
          ],
          "choropleth": [
           {
            "colorbar": {
             "outlinewidth": 0,
             "ticks": ""
            },
            "type": "choropleth"
           }
          ],
          "contour": [
           {
            "colorbar": {
             "outlinewidth": 0,
             "ticks": ""
            },
            "colorscale": [
             [
              0,
              "#0d0887"
             ],
             [
              0.1111111111111111,
              "#46039f"
             ],
             [
              0.2222222222222222,
              "#7201a8"
             ],
             [
              0.3333333333333333,
              "#9c179e"
             ],
             [
              0.4444444444444444,
              "#bd3786"
             ],
             [
              0.5555555555555556,
              "#d8576b"
             ],
             [
              0.6666666666666666,
              "#ed7953"
             ],
             [
              0.7777777777777778,
              "#fb9f3a"
             ],
             [
              0.8888888888888888,
              "#fdca26"
             ],
             [
              1,
              "#f0f921"
             ]
            ],
            "type": "contour"
           }
          ],
          "contourcarpet": [
           {
            "colorbar": {
             "outlinewidth": 0,
             "ticks": ""
            },
            "type": "contourcarpet"
           }
          ],
          "heatmap": [
           {
            "colorbar": {
             "outlinewidth": 0,
             "ticks": ""
            },
            "colorscale": [
             [
              0,
              "#0d0887"
             ],
             [
              0.1111111111111111,
              "#46039f"
             ],
             [
              0.2222222222222222,
              "#7201a8"
             ],
             [
              0.3333333333333333,
              "#9c179e"
             ],
             [
              0.4444444444444444,
              "#bd3786"
             ],
             [
              0.5555555555555556,
              "#d8576b"
             ],
             [
              0.6666666666666666,
              "#ed7953"
             ],
             [
              0.7777777777777778,
              "#fb9f3a"
             ],
             [
              0.8888888888888888,
              "#fdca26"
             ],
             [
              1,
              "#f0f921"
             ]
            ],
            "type": "heatmap"
           }
          ],
          "heatmapgl": [
           {
            "colorbar": {
             "outlinewidth": 0,
             "ticks": ""
            },
            "colorscale": [
             [
              0,
              "#0d0887"
             ],
             [
              0.1111111111111111,
              "#46039f"
             ],
             [
              0.2222222222222222,
              "#7201a8"
             ],
             [
              0.3333333333333333,
              "#9c179e"
             ],
             [
              0.4444444444444444,
              "#bd3786"
             ],
             [
              0.5555555555555556,
              "#d8576b"
             ],
             [
              0.6666666666666666,
              "#ed7953"
             ],
             [
              0.7777777777777778,
              "#fb9f3a"
             ],
             [
              0.8888888888888888,
              "#fdca26"
             ],
             [
              1,
              "#f0f921"
             ]
            ],
            "type": "heatmapgl"
           }
          ],
          "histogram": [
           {
            "marker": {
             "pattern": {
              "fillmode": "overlay",
              "size": 10,
              "solidity": 0.2
             }
            },
            "type": "histogram"
           }
          ],
          "histogram2d": [
           {
            "colorbar": {
             "outlinewidth": 0,
             "ticks": ""
            },
            "colorscale": [
             [
              0,
              "#0d0887"
             ],
             [
              0.1111111111111111,
              "#46039f"
             ],
             [
              0.2222222222222222,
              "#7201a8"
             ],
             [
              0.3333333333333333,
              "#9c179e"
             ],
             [
              0.4444444444444444,
              "#bd3786"
             ],
             [
              0.5555555555555556,
              "#d8576b"
             ],
             [
              0.6666666666666666,
              "#ed7953"
             ],
             [
              0.7777777777777778,
              "#fb9f3a"
             ],
             [
              0.8888888888888888,
              "#fdca26"
             ],
             [
              1,
              "#f0f921"
             ]
            ],
            "type": "histogram2d"
           }
          ],
          "histogram2dcontour": [
           {
            "colorbar": {
             "outlinewidth": 0,
             "ticks": ""
            },
            "colorscale": [
             [
              0,
              "#0d0887"
             ],
             [
              0.1111111111111111,
              "#46039f"
             ],
             [
              0.2222222222222222,
              "#7201a8"
             ],
             [
              0.3333333333333333,
              "#9c179e"
             ],
             [
              0.4444444444444444,
              "#bd3786"
             ],
             [
              0.5555555555555556,
              "#d8576b"
             ],
             [
              0.6666666666666666,
              "#ed7953"
             ],
             [
              0.7777777777777778,
              "#fb9f3a"
             ],
             [
              0.8888888888888888,
              "#fdca26"
             ],
             [
              1,
              "#f0f921"
             ]
            ],
            "type": "histogram2dcontour"
           }
          ],
          "mesh3d": [
           {
            "colorbar": {
             "outlinewidth": 0,
             "ticks": ""
            },
            "type": "mesh3d"
           }
          ],
          "parcoords": [
           {
            "line": {
             "colorbar": {
              "outlinewidth": 0,
              "ticks": ""
             }
            },
            "type": "parcoords"
           }
          ],
          "pie": [
           {
            "automargin": true,
            "type": "pie"
           }
          ],
          "scatter": [
           {
            "fillpattern": {
             "fillmode": "overlay",
             "size": 10,
             "solidity": 0.2
            },
            "type": "scatter"
           }
          ],
          "scatter3d": [
           {
            "line": {
             "colorbar": {
              "outlinewidth": 0,
              "ticks": ""
             }
            },
            "marker": {
             "colorbar": {
              "outlinewidth": 0,
              "ticks": ""
             }
            },
            "type": "scatter3d"
           }
          ],
          "scattercarpet": [
           {
            "marker": {
             "colorbar": {
              "outlinewidth": 0,
              "ticks": ""
             }
            },
            "type": "scattercarpet"
           }
          ],
          "scattergeo": [
           {
            "marker": {
             "colorbar": {
              "outlinewidth": 0,
              "ticks": ""
             }
            },
            "type": "scattergeo"
           }
          ],
          "scattergl": [
           {
            "marker": {
             "colorbar": {
              "outlinewidth": 0,
              "ticks": ""
             }
            },
            "type": "scattergl"
           }
          ],
          "scattermapbox": [
           {
            "marker": {
             "colorbar": {
              "outlinewidth": 0,
              "ticks": ""
             }
            },
            "type": "scattermapbox"
           }
          ],
          "scatterpolar": [
           {
            "marker": {
             "colorbar": {
              "outlinewidth": 0,
              "ticks": ""
             }
            },
            "type": "scatterpolar"
           }
          ],
          "scatterpolargl": [
           {
            "marker": {
             "colorbar": {
              "outlinewidth": 0,
              "ticks": ""
             }
            },
            "type": "scatterpolargl"
           }
          ],
          "scatterternary": [
           {
            "marker": {
             "colorbar": {
              "outlinewidth": 0,
              "ticks": ""
             }
            },
            "type": "scatterternary"
           }
          ],
          "surface": [
           {
            "colorbar": {
             "outlinewidth": 0,
             "ticks": ""
            },
            "colorscale": [
             [
              0,
              "#0d0887"
             ],
             [
              0.1111111111111111,
              "#46039f"
             ],
             [
              0.2222222222222222,
              "#7201a8"
             ],
             [
              0.3333333333333333,
              "#9c179e"
             ],
             [
              0.4444444444444444,
              "#bd3786"
             ],
             [
              0.5555555555555556,
              "#d8576b"
             ],
             [
              0.6666666666666666,
              "#ed7953"
             ],
             [
              0.7777777777777778,
              "#fb9f3a"
             ],
             [
              0.8888888888888888,
              "#fdca26"
             ],
             [
              1,
              "#f0f921"
             ]
            ],
            "type": "surface"
           }
          ],
          "table": [
           {
            "cells": {
             "fill": {
              "color": "#EBF0F8"
             },
             "line": {
              "color": "white"
             }
            },
            "header": {
             "fill": {
              "color": "#C8D4E3"
             },
             "line": {
              "color": "white"
             }
            },
            "type": "table"
           }
          ]
         },
         "layout": {
          "annotationdefaults": {
           "arrowcolor": "#2a3f5f",
           "arrowhead": 0,
           "arrowwidth": 1
          },
          "autotypenumbers": "strict",
          "coloraxis": {
           "colorbar": {
            "outlinewidth": 0,
            "ticks": ""
           }
          },
          "colorscale": {
           "diverging": [
            [
             0,
             "#8e0152"
            ],
            [
             0.1,
             "#c51b7d"
            ],
            [
             0.2,
             "#de77ae"
            ],
            [
             0.3,
             "#f1b6da"
            ],
            [
             0.4,
             "#fde0ef"
            ],
            [
             0.5,
             "#f7f7f7"
            ],
            [
             0.6,
             "#e6f5d0"
            ],
            [
             0.7,
             "#b8e186"
            ],
            [
             0.8,
             "#7fbc41"
            ],
            [
             0.9,
             "#4d9221"
            ],
            [
             1,
             "#276419"
            ]
           ],
           "sequential": [
            [
             0,
             "#0d0887"
            ],
            [
             0.1111111111111111,
             "#46039f"
            ],
            [
             0.2222222222222222,
             "#7201a8"
            ],
            [
             0.3333333333333333,
             "#9c179e"
            ],
            [
             0.4444444444444444,
             "#bd3786"
            ],
            [
             0.5555555555555556,
             "#d8576b"
            ],
            [
             0.6666666666666666,
             "#ed7953"
            ],
            [
             0.7777777777777778,
             "#fb9f3a"
            ],
            [
             0.8888888888888888,
             "#fdca26"
            ],
            [
             1,
             "#f0f921"
            ]
           ],
           "sequentialminus": [
            [
             0,
             "#0d0887"
            ],
            [
             0.1111111111111111,
             "#46039f"
            ],
            [
             0.2222222222222222,
             "#7201a8"
            ],
            [
             0.3333333333333333,
             "#9c179e"
            ],
            [
             0.4444444444444444,
             "#bd3786"
            ],
            [
             0.5555555555555556,
             "#d8576b"
            ],
            [
             0.6666666666666666,
             "#ed7953"
            ],
            [
             0.7777777777777778,
             "#fb9f3a"
            ],
            [
             0.8888888888888888,
             "#fdca26"
            ],
            [
             1,
             "#f0f921"
            ]
           ]
          },
          "colorway": [
           "#636efa",
           "#EF553B",
           "#00cc96",
           "#ab63fa",
           "#FFA15A",
           "#19d3f3",
           "#FF6692",
           "#B6E880",
           "#FF97FF",
           "#FECB52"
          ],
          "font": {
           "color": "#2a3f5f"
          },
          "geo": {
           "bgcolor": "white",
           "lakecolor": "white",
           "landcolor": "#E5ECF6",
           "showlakes": true,
           "showland": true,
           "subunitcolor": "white"
          },
          "hoverlabel": {
           "align": "left"
          },
          "hovermode": "closest",
          "mapbox": {
           "style": "light"
          },
          "paper_bgcolor": "white",
          "plot_bgcolor": "#E5ECF6",
          "polar": {
           "angularaxis": {
            "gridcolor": "white",
            "linecolor": "white",
            "ticks": ""
           },
           "bgcolor": "#E5ECF6",
           "radialaxis": {
            "gridcolor": "white",
            "linecolor": "white",
            "ticks": ""
           }
          },
          "scene": {
           "xaxis": {
            "backgroundcolor": "#E5ECF6",
            "gridcolor": "white",
            "gridwidth": 2,
            "linecolor": "white",
            "showbackground": true,
            "ticks": "",
            "zerolinecolor": "white"
           },
           "yaxis": {
            "backgroundcolor": "#E5ECF6",
            "gridcolor": "white",
            "gridwidth": 2,
            "linecolor": "white",
            "showbackground": true,
            "ticks": "",
            "zerolinecolor": "white"
           },
           "zaxis": {
            "backgroundcolor": "#E5ECF6",
            "gridcolor": "white",
            "gridwidth": 2,
            "linecolor": "white",
            "showbackground": true,
            "ticks": "",
            "zerolinecolor": "white"
           }
          },
          "shapedefaults": {
           "line": {
            "color": "#2a3f5f"
           }
          },
          "ternary": {
           "aaxis": {
            "gridcolor": "white",
            "linecolor": "white",
            "ticks": ""
           },
           "baxis": {
            "gridcolor": "white",
            "linecolor": "white",
            "ticks": ""
           },
           "bgcolor": "#E5ECF6",
           "caxis": {
            "gridcolor": "white",
            "linecolor": "white",
            "ticks": ""
           }
          },
          "title": {
           "x": 0.05
          },
          "xaxis": {
           "automargin": true,
           "gridcolor": "white",
           "linecolor": "white",
           "ticks": "",
           "title": {
            "standoff": 15
           },
           "zerolinecolor": "white",
           "zerolinewidth": 2
          },
          "yaxis": {
           "automargin": true,
           "gridcolor": "white",
           "linecolor": "white",
           "ticks": "",
           "title": {
            "standoff": 15
           },
           "zerolinecolor": "white",
           "zerolinewidth": 2
          }
         }
        },
        "title": {
         "text": "Overall Confirmed COVID-19 Cases by Country"
        },
        "xaxis": {
         "anchor": "y",
         "categoryorder": "total descending",
         "domain": [
          0,
          1
         ],
         "tickangle": -90,
         "title": {
          "text": "Country/Region"
         }
        },
        "yaxis": {
         "anchor": "x",
         "domain": [
          0,
          1
         ],
         "title": {
          "text": "Confirmed Cases"
         }
        }
       }
      }
     },
     "metadata": {},
     "output_type": "display_data"
    }
   ],
   "source": [
    "\n",
    "country_data = df.groupby('Country/Region')['Confirmed'].sum().reset_index()\n",
    "\n",
    "country_data = country_data.sort_values(by='Confirmed', ascending=False)\n",
    "\n",
    "fig = px.bar(country_data, x='Country/Region', y='Confirmed', \n",
    "             title='Overall Confirmed COVID-19 Cases by Country', \n",
    "             labels={'Country/Region': 'Country/Region', 'Confirmed': 'Confirmed Cases'},\n",
    "             color='Confirmed',\n",
    "             color_continuous_scale=px.colors.sequential.Blues)\n",
    "\n",
    "fig.update_layout(xaxis_tickangle=-90, xaxis={'categoryorder':'total descending'})\n",
    "\n",
    "fig.show()"
   ]
  },
  {
   "cell_type": "code",
   "execution_count": 18,
   "metadata": {},
   "outputs": [
    {
     "data": {
      "application/vnd.plotly.v1+json": {
       "config": {
        "plotlyServerURL": "https://plot.ly"
       },
       "data": [
        {
         "alignmentgroup": "True",
         "hovertemplate": "Country/Region=%{x}<br>Death Cases=%{marker.color}<extra></extra>",
         "legendgroup": "",
         "marker": {
          "color": [
           11011411,
           3997775,
           3938034,
           3707717,
           3048524,
           3033030,
           1728277,
           1111831,
           1024136,
           963679,
           871322,
           699566,
           672413,
           652113,
           622314,
           619385,
           466056,
           448913,
           346618,
           322480,
           264729,
           236525,
           220272,
           207858,
           186936,
           181979,
           161948,
           146603,
           140031,
           121392,
           118018,
           115633,
           110892,
           105150,
           97749,
           85559,
           85248,
           78032,
           77972,
           71390,
           61786,
           60602,
           51756,
           51053,
           49133,
           49098,
           39416,
           38196,
           37941,
           35415,
           33518,
           33364,
           31627,
           30338,
           28876,
           28391,
           27089,
           25664,
           25387,
           23170,
           23084,
           22354,
           21235,
           19215,
           17707,
           17654,
           16373,
           14979,
           14621,
           14282,
           12971,
           11804,
           11624,
           11429,
           11387,
           11326,
           10888,
           10463,
           10372,
           8229,
           8145,
           7177,
           7123,
           7019,
           7006,
           6908,
           6826,
           6720,
           6663,
           6289,
           5948,
           5887,
           5708,
           5583,
           5523,
           5423,
           5250,
           5229,
           5115,
           5086,
           4867,
           4717,
           4186,
           4101,
           3915,
           3520,
           3341,
           3011,
           2938,
           2696,
           2692,
           2643,
           2497,
           2458,
           2456,
           2441,
           2356,
           2246,
           2181,
           2037,
           2010,
           2006,
           1985,
           1962,
           1699,
           1663,
           1660,
           1640,
           1612,
           1379,
           1370,
           1346,
           1295,
           1291,
           1266,
           1203,
           1161,
           1141,
           1105,
           1095,
           1078,
           1041,
           1005,
           973,
           950,
           949,
           881,
           854,
           840,
           765,
           763,
           738,
           721,
           705,
           639,
           425,
           361,
           337,
           326,
           226,
           222,
           209,
           169,
           120,
           116,
           106,
           98,
           72,
           63,
           6,
           2,
           0,
           0,
           0,
           0,
           0,
           0,
           0,
           0,
           0,
           0,
           0,
           0,
           0,
           0,
           0,
           0
          ],
          "coloraxis": "coloraxis",
          "pattern": {
           "shape": ""
          }
         },
         "name": "",
         "offsetgroup": "",
         "orientation": "v",
         "showlegend": false,
         "textposition": "auto",
         "type": "bar",
         "x": [
          "US",
          "United Kingdom",
          "Brazil",
          "Italy",
          "France",
          "Spain",
          "Mexico",
          "India",
          "Iran",
          "Belgium",
          "Germany",
          "Canada",
          "China",
          "Peru",
          "Netherlands",
          "Russia",
          "Turkey",
          "Sweden",
          "Ecuador",
          "Chile",
          "Pakistan",
          "Colombia",
          "Indonesia",
          "Switzerland",
          "Egypt",
          "South Africa",
          "Ireland",
          "Portugal",
          "Romania",
          "Iraq",
          "Poland",
          "Bangladesh",
          "Philippines",
          "Saudi Arabia",
          "Argentina",
          "Japan",
          "Ukraine",
          "Bolivia",
          "Algeria",
          "Austria",
          "Dominican Republic",
          "Denmark",
          "Panama",
          "Hungary",
          "Guatemala",
          "Afghanistan",
          "Nigeria",
          "Moldova",
          "Honduras",
          "Sudan",
          "South Korea",
          "Czechia",
          "Israel",
          "Finland",
          "Serbia",
          "Belarus",
          "Armenia",
          "Norway",
          "United Arab Emirates",
          "Morocco",
          "Kuwait",
          "Cameroon",
          "North Macedonia",
          "Greece",
          "Yemen",
          "Bulgaria",
          "Bosnia and Herzegovina",
          "Kyrgyzstan",
          "Kazakhstan",
          "Azerbaijan",
          "Malaysia",
          "Oman",
          "Luxembourg",
          "El Salvador",
          "Australia",
          "Slovenia",
          "Congo (Kinshasa)",
          "Kenya",
          "Croatia",
          "Mali",
          "Cuba",
          "Senegal",
          "Qatar",
          "Lithuania",
          "Somalia",
          "Ghana",
          "Estonia",
          "Mauritania",
          "Haiti",
          "Thailand",
          "Niger",
          "Ethiopia",
          "Albania",
          "Burkina Faso",
          "Chad",
          "Andorra",
          "Tunisia",
          "Kosovo",
          "Bahrain",
          "San Marino",
          "Nicaragua",
          "Cote d'Ivoire",
          "Sierra Leone",
          "Venezuela",
          "Tajikistan",
          "Lebanon",
          "Liberia",
          "Djibouti",
          "Uzbekistan",
          "Congo (Brazzaville)",
          "Slovakia",
          "Zambia",
          "Gabon",
          "Latvia",
          "Uruguay",
          "Singapore",
          "Guinea",
          "Equatorial Guinea",
          "New Zealand",
          "Costa Rica",
          "Central African Republic",
          "South Sudan",
          "Tanzania",
          "Cyprus",
          "Madagascar",
          "Paraguay",
          "Nepal",
          "Malawi",
          "Libya",
          "Montenegro",
          "West Bank and Gaza",
          "Guyana",
          "Togo",
          "Guinea-Bissau",
          "Georgia",
          "Bahamas",
          "Mauritius",
          "Iceland",
          "Sri Lanka",
          "Benin",
          "Angola",
          "Jordan",
          "Jamaica",
          "Syria",
          "Sao Tome and Principe",
          "Trinidad and Tobago",
          "Zimbabwe",
          "Cabo Verde",
          "Taiwan*",
          "Malta",
          "Eswatini",
          "Barbados",
          "Suriname",
          "Maldives",
          "Burma",
          "Monaco",
          "Mozambique",
          "Comoros",
          "Antigua and Barbuda",
          "Brunei",
          "Belize",
          "Gambia",
          "Rwanda",
          "Botswana",
          "Liechtenstein",
          "Burundi",
          "Lesotho",
          "Namibia",
          "Western Sahara",
          "Uganda",
          "Papua New Guinea",
          "Grenada",
          "Dominica",
          "Holy See",
          "Fiji",
          "Vietnam",
          "Saint Vincent and the Grenadines",
          "Eritrea",
          "Saint Lucia",
          "Laos",
          "Cambodia",
          "Saint Kitts and Nevis",
          "Bhutan",
          "Mongolia",
          "Timor-Leste",
          "Seychelles",
          "Greenland"
         ],
         "xaxis": "x",
         "y": [
          11011411,
          3997775,
          3938034,
          3707717,
          3048524,
          3033030,
          1728277,
          1111831,
          1024136,
          963679,
          871322,
          699566,
          672413,
          652113,
          622314,
          619385,
          466056,
          448913,
          346618,
          322480,
          264729,
          236525,
          220272,
          207858,
          186936,
          181979,
          161948,
          146603,
          140031,
          121392,
          118018,
          115633,
          110892,
          105150,
          97749,
          85559,
          85248,
          78032,
          77972,
          71390,
          61786,
          60602,
          51756,
          51053,
          49133,
          49098,
          39416,
          38196,
          37941,
          35415,
          33518,
          33364,
          31627,
          30338,
          28876,
          28391,
          27089,
          25664,
          25387,
          23170,
          23084,
          22354,
          21235,
          19215,
          17707,
          17654,
          16373,
          14979,
          14621,
          14282,
          12971,
          11804,
          11624,
          11429,
          11387,
          11326,
          10888,
          10463,
          10372,
          8229,
          8145,
          7177,
          7123,
          7019,
          7006,
          6908,
          6826,
          6720,
          6663,
          6289,
          5948,
          5887,
          5708,
          5583,
          5523,
          5423,
          5250,
          5229,
          5115,
          5086,
          4867,
          4717,
          4186,
          4101,
          3915,
          3520,
          3341,
          3011,
          2938,
          2696,
          2692,
          2643,
          2497,
          2458,
          2456,
          2441,
          2356,
          2246,
          2181,
          2037,
          2010,
          2006,
          1985,
          1962,
          1699,
          1663,
          1660,
          1640,
          1612,
          1379,
          1370,
          1346,
          1295,
          1291,
          1266,
          1203,
          1161,
          1141,
          1105,
          1095,
          1078,
          1041,
          1005,
          973,
          950,
          949,
          881,
          854,
          840,
          765,
          763,
          738,
          721,
          705,
          639,
          425,
          361,
          337,
          326,
          226,
          222,
          209,
          169,
          120,
          116,
          106,
          98,
          72,
          63,
          6,
          2,
          0,
          0,
          0,
          0,
          0,
          0,
          0,
          0,
          0,
          0,
          0,
          0,
          0,
          0,
          0,
          0
         ],
         "yaxis": "y"
        }
       ],
       "layout": {
        "barmode": "relative",
        "coloraxis": {
         "colorbar": {
          "title": {
           "text": "Death Cases"
          }
         },
         "colorscale": [
          [
           0,
           "rgb(255,245,240)"
          ],
          [
           0.125,
           "rgb(254,224,210)"
          ],
          [
           0.25,
           "rgb(252,187,161)"
          ],
          [
           0.375,
           "rgb(252,146,114)"
          ],
          [
           0.5,
           "rgb(251,106,74)"
          ],
          [
           0.625,
           "rgb(239,59,44)"
          ],
          [
           0.75,
           "rgb(203,24,29)"
          ],
          [
           0.875,
           "rgb(165,15,21)"
          ],
          [
           1,
           "rgb(103,0,13)"
          ]
         ]
        },
        "legend": {
         "tracegroupgap": 0
        },
        "template": {
         "data": {
          "bar": [
           {
            "error_x": {
             "color": "#2a3f5f"
            },
            "error_y": {
             "color": "#2a3f5f"
            },
            "marker": {
             "line": {
              "color": "#E5ECF6",
              "width": 0.5
             },
             "pattern": {
              "fillmode": "overlay",
              "size": 10,
              "solidity": 0.2
             }
            },
            "type": "bar"
           }
          ],
          "barpolar": [
           {
            "marker": {
             "line": {
              "color": "#E5ECF6",
              "width": 0.5
             },
             "pattern": {
              "fillmode": "overlay",
              "size": 10,
              "solidity": 0.2
             }
            },
            "type": "barpolar"
           }
          ],
          "carpet": [
           {
            "aaxis": {
             "endlinecolor": "#2a3f5f",
             "gridcolor": "white",
             "linecolor": "white",
             "minorgridcolor": "white",
             "startlinecolor": "#2a3f5f"
            },
            "baxis": {
             "endlinecolor": "#2a3f5f",
             "gridcolor": "white",
             "linecolor": "white",
             "minorgridcolor": "white",
             "startlinecolor": "#2a3f5f"
            },
            "type": "carpet"
           }
          ],
          "choropleth": [
           {
            "colorbar": {
             "outlinewidth": 0,
             "ticks": ""
            },
            "type": "choropleth"
           }
          ],
          "contour": [
           {
            "colorbar": {
             "outlinewidth": 0,
             "ticks": ""
            },
            "colorscale": [
             [
              0,
              "#0d0887"
             ],
             [
              0.1111111111111111,
              "#46039f"
             ],
             [
              0.2222222222222222,
              "#7201a8"
             ],
             [
              0.3333333333333333,
              "#9c179e"
             ],
             [
              0.4444444444444444,
              "#bd3786"
             ],
             [
              0.5555555555555556,
              "#d8576b"
             ],
             [
              0.6666666666666666,
              "#ed7953"
             ],
             [
              0.7777777777777778,
              "#fb9f3a"
             ],
             [
              0.8888888888888888,
              "#fdca26"
             ],
             [
              1,
              "#f0f921"
             ]
            ],
            "type": "contour"
           }
          ],
          "contourcarpet": [
           {
            "colorbar": {
             "outlinewidth": 0,
             "ticks": ""
            },
            "type": "contourcarpet"
           }
          ],
          "heatmap": [
           {
            "colorbar": {
             "outlinewidth": 0,
             "ticks": ""
            },
            "colorscale": [
             [
              0,
              "#0d0887"
             ],
             [
              0.1111111111111111,
              "#46039f"
             ],
             [
              0.2222222222222222,
              "#7201a8"
             ],
             [
              0.3333333333333333,
              "#9c179e"
             ],
             [
              0.4444444444444444,
              "#bd3786"
             ],
             [
              0.5555555555555556,
              "#d8576b"
             ],
             [
              0.6666666666666666,
              "#ed7953"
             ],
             [
              0.7777777777777778,
              "#fb9f3a"
             ],
             [
              0.8888888888888888,
              "#fdca26"
             ],
             [
              1,
              "#f0f921"
             ]
            ],
            "type": "heatmap"
           }
          ],
          "heatmapgl": [
           {
            "colorbar": {
             "outlinewidth": 0,
             "ticks": ""
            },
            "colorscale": [
             [
              0,
              "#0d0887"
             ],
             [
              0.1111111111111111,
              "#46039f"
             ],
             [
              0.2222222222222222,
              "#7201a8"
             ],
             [
              0.3333333333333333,
              "#9c179e"
             ],
             [
              0.4444444444444444,
              "#bd3786"
             ],
             [
              0.5555555555555556,
              "#d8576b"
             ],
             [
              0.6666666666666666,
              "#ed7953"
             ],
             [
              0.7777777777777778,
              "#fb9f3a"
             ],
             [
              0.8888888888888888,
              "#fdca26"
             ],
             [
              1,
              "#f0f921"
             ]
            ],
            "type": "heatmapgl"
           }
          ],
          "histogram": [
           {
            "marker": {
             "pattern": {
              "fillmode": "overlay",
              "size": 10,
              "solidity": 0.2
             }
            },
            "type": "histogram"
           }
          ],
          "histogram2d": [
           {
            "colorbar": {
             "outlinewidth": 0,
             "ticks": ""
            },
            "colorscale": [
             [
              0,
              "#0d0887"
             ],
             [
              0.1111111111111111,
              "#46039f"
             ],
             [
              0.2222222222222222,
              "#7201a8"
             ],
             [
              0.3333333333333333,
              "#9c179e"
             ],
             [
              0.4444444444444444,
              "#bd3786"
             ],
             [
              0.5555555555555556,
              "#d8576b"
             ],
             [
              0.6666666666666666,
              "#ed7953"
             ],
             [
              0.7777777777777778,
              "#fb9f3a"
             ],
             [
              0.8888888888888888,
              "#fdca26"
             ],
             [
              1,
              "#f0f921"
             ]
            ],
            "type": "histogram2d"
           }
          ],
          "histogram2dcontour": [
           {
            "colorbar": {
             "outlinewidth": 0,
             "ticks": ""
            },
            "colorscale": [
             [
              0,
              "#0d0887"
             ],
             [
              0.1111111111111111,
              "#46039f"
             ],
             [
              0.2222222222222222,
              "#7201a8"
             ],
             [
              0.3333333333333333,
              "#9c179e"
             ],
             [
              0.4444444444444444,
              "#bd3786"
             ],
             [
              0.5555555555555556,
              "#d8576b"
             ],
             [
              0.6666666666666666,
              "#ed7953"
             ],
             [
              0.7777777777777778,
              "#fb9f3a"
             ],
             [
              0.8888888888888888,
              "#fdca26"
             ],
             [
              1,
              "#f0f921"
             ]
            ],
            "type": "histogram2dcontour"
           }
          ],
          "mesh3d": [
           {
            "colorbar": {
             "outlinewidth": 0,
             "ticks": ""
            },
            "type": "mesh3d"
           }
          ],
          "parcoords": [
           {
            "line": {
             "colorbar": {
              "outlinewidth": 0,
              "ticks": ""
             }
            },
            "type": "parcoords"
           }
          ],
          "pie": [
           {
            "automargin": true,
            "type": "pie"
           }
          ],
          "scatter": [
           {
            "fillpattern": {
             "fillmode": "overlay",
             "size": 10,
             "solidity": 0.2
            },
            "type": "scatter"
           }
          ],
          "scatter3d": [
           {
            "line": {
             "colorbar": {
              "outlinewidth": 0,
              "ticks": ""
             }
            },
            "marker": {
             "colorbar": {
              "outlinewidth": 0,
              "ticks": ""
             }
            },
            "type": "scatter3d"
           }
          ],
          "scattercarpet": [
           {
            "marker": {
             "colorbar": {
              "outlinewidth": 0,
              "ticks": ""
             }
            },
            "type": "scattercarpet"
           }
          ],
          "scattergeo": [
           {
            "marker": {
             "colorbar": {
              "outlinewidth": 0,
              "ticks": ""
             }
            },
            "type": "scattergeo"
           }
          ],
          "scattergl": [
           {
            "marker": {
             "colorbar": {
              "outlinewidth": 0,
              "ticks": ""
             }
            },
            "type": "scattergl"
           }
          ],
          "scattermapbox": [
           {
            "marker": {
             "colorbar": {
              "outlinewidth": 0,
              "ticks": ""
             }
            },
            "type": "scattermapbox"
           }
          ],
          "scatterpolar": [
           {
            "marker": {
             "colorbar": {
              "outlinewidth": 0,
              "ticks": ""
             }
            },
            "type": "scatterpolar"
           }
          ],
          "scatterpolargl": [
           {
            "marker": {
             "colorbar": {
              "outlinewidth": 0,
              "ticks": ""
             }
            },
            "type": "scatterpolargl"
           }
          ],
          "scatterternary": [
           {
            "marker": {
             "colorbar": {
              "outlinewidth": 0,
              "ticks": ""
             }
            },
            "type": "scatterternary"
           }
          ],
          "surface": [
           {
            "colorbar": {
             "outlinewidth": 0,
             "ticks": ""
            },
            "colorscale": [
             [
              0,
              "#0d0887"
             ],
             [
              0.1111111111111111,
              "#46039f"
             ],
             [
              0.2222222222222222,
              "#7201a8"
             ],
             [
              0.3333333333333333,
              "#9c179e"
             ],
             [
              0.4444444444444444,
              "#bd3786"
             ],
             [
              0.5555555555555556,
              "#d8576b"
             ],
             [
              0.6666666666666666,
              "#ed7953"
             ],
             [
              0.7777777777777778,
              "#fb9f3a"
             ],
             [
              0.8888888888888888,
              "#fdca26"
             ],
             [
              1,
              "#f0f921"
             ]
            ],
            "type": "surface"
           }
          ],
          "table": [
           {
            "cells": {
             "fill": {
              "color": "#EBF0F8"
             },
             "line": {
              "color": "white"
             }
            },
            "header": {
             "fill": {
              "color": "#C8D4E3"
             },
             "line": {
              "color": "white"
             }
            },
            "type": "table"
           }
          ]
         },
         "layout": {
          "annotationdefaults": {
           "arrowcolor": "#2a3f5f",
           "arrowhead": 0,
           "arrowwidth": 1
          },
          "autotypenumbers": "strict",
          "coloraxis": {
           "colorbar": {
            "outlinewidth": 0,
            "ticks": ""
           }
          },
          "colorscale": {
           "diverging": [
            [
             0,
             "#8e0152"
            ],
            [
             0.1,
             "#c51b7d"
            ],
            [
             0.2,
             "#de77ae"
            ],
            [
             0.3,
             "#f1b6da"
            ],
            [
             0.4,
             "#fde0ef"
            ],
            [
             0.5,
             "#f7f7f7"
            ],
            [
             0.6,
             "#e6f5d0"
            ],
            [
             0.7,
             "#b8e186"
            ],
            [
             0.8,
             "#7fbc41"
            ],
            [
             0.9,
             "#4d9221"
            ],
            [
             1,
             "#276419"
            ]
           ],
           "sequential": [
            [
             0,
             "#0d0887"
            ],
            [
             0.1111111111111111,
             "#46039f"
            ],
            [
             0.2222222222222222,
             "#7201a8"
            ],
            [
             0.3333333333333333,
             "#9c179e"
            ],
            [
             0.4444444444444444,
             "#bd3786"
            ],
            [
             0.5555555555555556,
             "#d8576b"
            ],
            [
             0.6666666666666666,
             "#ed7953"
            ],
            [
             0.7777777777777778,
             "#fb9f3a"
            ],
            [
             0.8888888888888888,
             "#fdca26"
            ],
            [
             1,
             "#f0f921"
            ]
           ],
           "sequentialminus": [
            [
             0,
             "#0d0887"
            ],
            [
             0.1111111111111111,
             "#46039f"
            ],
            [
             0.2222222222222222,
             "#7201a8"
            ],
            [
             0.3333333333333333,
             "#9c179e"
            ],
            [
             0.4444444444444444,
             "#bd3786"
            ],
            [
             0.5555555555555556,
             "#d8576b"
            ],
            [
             0.6666666666666666,
             "#ed7953"
            ],
            [
             0.7777777777777778,
             "#fb9f3a"
            ],
            [
             0.8888888888888888,
             "#fdca26"
            ],
            [
             1,
             "#f0f921"
            ]
           ]
          },
          "colorway": [
           "#636efa",
           "#EF553B",
           "#00cc96",
           "#ab63fa",
           "#FFA15A",
           "#19d3f3",
           "#FF6692",
           "#B6E880",
           "#FF97FF",
           "#FECB52"
          ],
          "font": {
           "color": "#2a3f5f"
          },
          "geo": {
           "bgcolor": "white",
           "lakecolor": "white",
           "landcolor": "#E5ECF6",
           "showlakes": true,
           "showland": true,
           "subunitcolor": "white"
          },
          "hoverlabel": {
           "align": "left"
          },
          "hovermode": "closest",
          "mapbox": {
           "style": "light"
          },
          "paper_bgcolor": "white",
          "plot_bgcolor": "#E5ECF6",
          "polar": {
           "angularaxis": {
            "gridcolor": "white",
            "linecolor": "white",
            "ticks": ""
           },
           "bgcolor": "#E5ECF6",
           "radialaxis": {
            "gridcolor": "white",
            "linecolor": "white",
            "ticks": ""
           }
          },
          "scene": {
           "xaxis": {
            "backgroundcolor": "#E5ECF6",
            "gridcolor": "white",
            "gridwidth": 2,
            "linecolor": "white",
            "showbackground": true,
            "ticks": "",
            "zerolinecolor": "white"
           },
           "yaxis": {
            "backgroundcolor": "#E5ECF6",
            "gridcolor": "white",
            "gridwidth": 2,
            "linecolor": "white",
            "showbackground": true,
            "ticks": "",
            "zerolinecolor": "white"
           },
           "zaxis": {
            "backgroundcolor": "#E5ECF6",
            "gridcolor": "white",
            "gridwidth": 2,
            "linecolor": "white",
            "showbackground": true,
            "ticks": "",
            "zerolinecolor": "white"
           }
          },
          "shapedefaults": {
           "line": {
            "color": "#2a3f5f"
           }
          },
          "ternary": {
           "aaxis": {
            "gridcolor": "white",
            "linecolor": "white",
            "ticks": ""
           },
           "baxis": {
            "gridcolor": "white",
            "linecolor": "white",
            "ticks": ""
           },
           "bgcolor": "#E5ECF6",
           "caxis": {
            "gridcolor": "white",
            "linecolor": "white",
            "ticks": ""
           }
          },
          "title": {
           "x": 0.05
          },
          "xaxis": {
           "automargin": true,
           "gridcolor": "white",
           "linecolor": "white",
           "ticks": "",
           "title": {
            "standoff": 15
           },
           "zerolinecolor": "white",
           "zerolinewidth": 2
          },
          "yaxis": {
           "automargin": true,
           "gridcolor": "white",
           "linecolor": "white",
           "ticks": "",
           "title": {
            "standoff": 15
           },
           "zerolinecolor": "white",
           "zerolinewidth": 2
          }
         }
        },
        "title": {
         "text": "Overall COVID-19 Death Cases by Country"
        },
        "xaxis": {
         "anchor": "y",
         "categoryorder": "total descending",
         "domain": [
          0,
          1
         ],
         "tickangle": -90,
         "title": {
          "text": "Country/Region"
         }
        },
        "yaxis": {
         "anchor": "x",
         "domain": [
          0,
          1
         ],
         "title": {
          "text": "Death Cases"
         }
        }
       }
      }
     },
     "metadata": {},
     "output_type": "display_data"
    }
   ],
   "source": [
    "country_data = df.groupby('Country/Region')['Deaths'].sum().reset_index()\n",
    "\n",
    "country_data = country_data.sort_values(by='Deaths', ascending=False)\n",
    "\n",
    "fig = px.bar(country_data, x='Country/Region', y='Deaths', \n",
    "             title='Overall COVID-19 Death Cases by Country', \n",
    "             labels={'Country/Region': 'Country/Region', 'Deaths': 'Death Cases'},\n",
    "             color='Deaths',\n",
    "             color_continuous_scale=px.colors.sequential.Reds)\n",
    "\n",
    "fig.update_layout(xaxis_tickangle=-90, xaxis={'categoryorder':'total descending'})\n",
    "\n",
    "fig.show()"
   ]
  },
  {
   "cell_type": "code",
   "execution_count": 19,
   "metadata": {},
   "outputs": [
    {
     "data": {
      "application/vnd.plotly.v1+json": {
       "config": {
        "plotlyServerURL": "https://plot.ly"
       },
       "data": [
        {
         "alignmentgroup": "True",
         "hovertemplate": "Country/Region=%{x}<br>Recovered Cases=%{marker.color}<extra></extra>",
         "legendgroup": "",
         "marker": {
          "color": [
           56353416,
           54492873,
           25120448,
           23783720,
           17107839,
           15673910,
           15200895,
           15093583,
           13345389,
           13292593,
           11466866,
           11141225,
           10862846,
           8474107,
           7182115,
           6936003,
           5836423,
           4676443,
           3714702,
           2957883,
           2823811,
           2771925,
           2402874,
           2372884,
           2205347,
           1997530,
           1809966,
           1790961,
           1772210,
           1680024,
           1677484,
           1638380,
           1627492,
           1521162,
           1465856,
           1439269,
           1409409,
           1387463,
           1342402,
           1334787,
           1307911,
           1246797,
           1213644,
           1211513,
           1197283,
           1057021,
           857482,
           814529,
           798240,
           785042,
           755897,
           735730,
           711928,
           703960,
           703402,
           703056,
           652369,
           651140,
           600928,
           588941,
           571653,
           544492,
           544430,
           423777,
           416757,
           379664,
           312360,
           309368,
           308056,
           301587,
           286778,
           276575,
           264000,
           255143,
           240972,
           240835,
           214483,
           213360,
           207156,
           204205,
           190132,
           182621,
           170780,
           161998,
           151542,
           149560,
           146671,
           137224,
           135380,
           135073,
           132346,
           126217,
           122234,
           121950,
           121793,
           120592,
           118877,
           116642,
           109805,
           109389,
           106302,
           99424,
           95287,
           94938,
           87298,
           86849,
           85410,
           83611,
           82508,
           79067,
           75800,
           74876,
           74648,
           72759,
           69074,
           68045,
           65254,
           61124,
           60230,
           59491,
           58390,
           53260,
           48059,
           43318,
           42184,
           41810,
           39767,
           38253,
           36974,
           36003,
           35352,
           32838,
           32602,
           31486,
           30185,
           29132,
           28330,
           26822,
           26036,
           25911,
           23779,
           23418,
           23121,
           17436,
           16967,
           16729,
           15882,
           15476,
           15262,
           14199,
           13917,
           12207,
           11473,
           10531,
           9902,
           9477,
           8707,
           8521,
           7444,
           7361,
           6573,
           6047,
           5724,
           2838,
           2600,
           2291,
           2278,
           2152,
           1995,
           1860,
           1848,
           1659,
           1618,
           1568,
           1540,
           1372,
           1318,
           1295,
           1247,
           742,
           695,
           648,
           0,
           0,
           0,
           0,
           0
          ],
          "coloraxis": "coloraxis",
          "pattern": {
           "shape": ""
          }
         },
         "name": "",
         "offsetgroup": "",
         "orientation": "v",
         "showlegend": false,
         "textposition": "auto",
         "type": "bar",
         "x": [
          "US",
          "Brazil",
          "Russia",
          "India",
          "Germany",
          "Italy",
          "Iran",
          "Spain",
          "Turkey",
          "Chile",
          "China",
          "Mexico",
          "Peru",
          "Saudi Arabia",
          "France",
          "Pakistan",
          "South Africa",
          "Qatar",
          "Bangladesh",
          "Switzerland",
          "Colombia",
          "Belarus",
          "United Arab Emirates",
          "Singapore",
          "Kuwait",
          "Ireland",
          "Portugal",
          "Iraq",
          "Ecuador",
          "Argentina",
          "Indonesia",
          "Austria",
          "Belgium",
          "Israel",
          "Poland",
          "Oman",
          "Romania",
          "Ukraine",
          "Kazakhstan",
          "Bahrain",
          "Japan",
          "South Korea",
          "Panama",
          "Dominican Republic",
          "Egypt",
          "Denmark",
          "Armenia",
          "Ghana",
          "Afghanistan",
          "Philippines",
          "Algeria",
          "Serbia",
          "Australia",
          "Morocco",
          "Azerbaijan",
          "Malaysia",
          "Moldova",
          "Czechia",
          "Nigeria",
          "Cameroon",
          "Bolivia",
          "Finland",
          "Norway",
          "Uzbekistan",
          "Guatemala",
          "Luxembourg",
          "Thailand",
          "Cote d'Ivoire",
          "Nepal",
          "Kyrgyzstan",
          "Senegal",
          "Guinea",
          "Tajikistan",
          "Djibouti",
          "El Salvador",
          "Sudan",
          "North Macedonia",
          "Croatia",
          "Bosnia and Herzegovina",
          "Hungary",
          "Iceland",
          "Bulgaria",
          "Cuba",
          "Kenya",
          "Venezuela",
          "New Zealand",
          "Gabon",
          "Estonia",
          "Honduras",
          "Congo (Kinshasa)",
          "Greece",
          "United Kingdom",
          "Kosovo",
          "Slovakia",
          "Ethiopia",
          "Lithuania",
          "Albania",
          "Costa Rica",
          "Slovenia",
          "Sri Lanka",
          "Maldives",
          "Madagascar",
          "Mali",
          "Mauritania",
          "Haiti",
          "Nicaragua",
          "Tunisia",
          "Zambia",
          "Lebanon",
          "Niger",
          "Paraguay",
          "Burkina Faso",
          "Latvia",
          "Uruguay",
          "Andorra",
          "Jordan",
          "Cyprus",
          "West Bank and Gaza",
          "Georgia",
          "Somalia",
          "Sierra Leone",
          "Malta",
          "Chad",
          "Central African Republic",
          "Taiwan*",
          "San Marino",
          "Uganda",
          "Cabo Verde",
          "Rwanda",
          "Jamaica",
          "Equatorial Guinea",
          "Vietnam",
          "Mauritius",
          "Montenegro",
          "Eswatini",
          "Congo (Brazzaville)",
          "Togo",
          "Malawi",
          "Guinea-Bissau",
          "Benin",
          "Yemen",
          "Liberia",
          "South Sudan",
          "Suriname",
          "Netherlands",
          "Tanzania",
          "Sao Tome and Principe",
          "Burma",
          "Brunei",
          "Libya",
          "Cambodia",
          "Zimbabwe",
          "Comoros",
          "Trinidad and Tobago",
          "Mongolia",
          "Liechtenstein",
          "Monaco",
          "Guyana",
          "Barbados",
          "Burundi",
          "Angola",
          "Bahamas",
          "Eritrea",
          "Bhutan",
          "Antigua and Barbuda",
          "Botswana",
          "Gambia",
          "Namibia",
          "Saint Vincent and the Grenadines",
          "Saint Lucia",
          "Grenada",
          "Dominica",
          "Belize",
          "Fiji",
          "Laos",
          "Greenland",
          "Lesotho",
          "Saint Kitts and Nevis",
          "Seychelles",
          "Holy See",
          "Papua New Guinea",
          "Western Sahara",
          "Timor-Leste",
          "Mozambique",
          "Syria",
          "Sweden",
          "Canada"
         ],
         "xaxis": "x",
         "y": [
          56353416,
          54492873,
          25120448,
          23783720,
          17107839,
          15673910,
          15200895,
          15093583,
          13345389,
          13292593,
          11466866,
          11141225,
          10862846,
          8474107,
          7182115,
          6936003,
          5836423,
          4676443,
          3714702,
          2957883,
          2823811,
          2771925,
          2402874,
          2372884,
          2205347,
          1997530,
          1809966,
          1790961,
          1772210,
          1680024,
          1677484,
          1638380,
          1627492,
          1521162,
          1465856,
          1439269,
          1409409,
          1387463,
          1342402,
          1334787,
          1307911,
          1246797,
          1213644,
          1211513,
          1197283,
          1057021,
          857482,
          814529,
          798240,
          785042,
          755897,
          735730,
          711928,
          703960,
          703402,
          703056,
          652369,
          651140,
          600928,
          588941,
          571653,
          544492,
          544430,
          423777,
          416757,
          379664,
          312360,
          309368,
          308056,
          301587,
          286778,
          276575,
          264000,
          255143,
          240972,
          240835,
          214483,
          213360,
          207156,
          204205,
          190132,
          182621,
          170780,
          161998,
          151542,
          149560,
          146671,
          137224,
          135380,
          135073,
          132346,
          126217,
          122234,
          121950,
          121793,
          120592,
          118877,
          116642,
          109805,
          109389,
          106302,
          99424,
          95287,
          94938,
          87298,
          86849,
          85410,
          83611,
          82508,
          79067,
          75800,
          74876,
          74648,
          72759,
          69074,
          68045,
          65254,
          61124,
          60230,
          59491,
          58390,
          53260,
          48059,
          43318,
          42184,
          41810,
          39767,
          38253,
          36974,
          36003,
          35352,
          32838,
          32602,
          31486,
          30185,
          29132,
          28330,
          26822,
          26036,
          25911,
          23779,
          23418,
          23121,
          17436,
          16967,
          16729,
          15882,
          15476,
          15262,
          14199,
          13917,
          12207,
          11473,
          10531,
          9902,
          9477,
          8707,
          8521,
          7444,
          7361,
          6573,
          6047,
          5724,
          2838,
          2600,
          2291,
          2278,
          2152,
          1995,
          1860,
          1848,
          1659,
          1618,
          1568,
          1540,
          1372,
          1318,
          1295,
          1247,
          742,
          695,
          648,
          0,
          0,
          0,
          0,
          0
         ],
         "yaxis": "y"
        }
       ],
       "layout": {
        "barmode": "relative",
        "coloraxis": {
         "colorbar": {
          "title": {
           "text": "Recovered Cases"
          }
         },
         "colorscale": [
          [
           0,
           "rgb(247,252,245)"
          ],
          [
           0.125,
           "rgb(229,245,224)"
          ],
          [
           0.25,
           "rgb(199,233,192)"
          ],
          [
           0.375,
           "rgb(161,217,155)"
          ],
          [
           0.5,
           "rgb(116,196,118)"
          ],
          [
           0.625,
           "rgb(65,171,93)"
          ],
          [
           0.75,
           "rgb(35,139,69)"
          ],
          [
           0.875,
           "rgb(0,109,44)"
          ],
          [
           1,
           "rgb(0,68,27)"
          ]
         ]
        },
        "legend": {
         "tracegroupgap": 0
        },
        "template": {
         "data": {
          "bar": [
           {
            "error_x": {
             "color": "#2a3f5f"
            },
            "error_y": {
             "color": "#2a3f5f"
            },
            "marker": {
             "line": {
              "color": "#E5ECF6",
              "width": 0.5
             },
             "pattern": {
              "fillmode": "overlay",
              "size": 10,
              "solidity": 0.2
             }
            },
            "type": "bar"
           }
          ],
          "barpolar": [
           {
            "marker": {
             "line": {
              "color": "#E5ECF6",
              "width": 0.5
             },
             "pattern": {
              "fillmode": "overlay",
              "size": 10,
              "solidity": 0.2
             }
            },
            "type": "barpolar"
           }
          ],
          "carpet": [
           {
            "aaxis": {
             "endlinecolor": "#2a3f5f",
             "gridcolor": "white",
             "linecolor": "white",
             "minorgridcolor": "white",
             "startlinecolor": "#2a3f5f"
            },
            "baxis": {
             "endlinecolor": "#2a3f5f",
             "gridcolor": "white",
             "linecolor": "white",
             "minorgridcolor": "white",
             "startlinecolor": "#2a3f5f"
            },
            "type": "carpet"
           }
          ],
          "choropleth": [
           {
            "colorbar": {
             "outlinewidth": 0,
             "ticks": ""
            },
            "type": "choropleth"
           }
          ],
          "contour": [
           {
            "colorbar": {
             "outlinewidth": 0,
             "ticks": ""
            },
            "colorscale": [
             [
              0,
              "#0d0887"
             ],
             [
              0.1111111111111111,
              "#46039f"
             ],
             [
              0.2222222222222222,
              "#7201a8"
             ],
             [
              0.3333333333333333,
              "#9c179e"
             ],
             [
              0.4444444444444444,
              "#bd3786"
             ],
             [
              0.5555555555555556,
              "#d8576b"
             ],
             [
              0.6666666666666666,
              "#ed7953"
             ],
             [
              0.7777777777777778,
              "#fb9f3a"
             ],
             [
              0.8888888888888888,
              "#fdca26"
             ],
             [
              1,
              "#f0f921"
             ]
            ],
            "type": "contour"
           }
          ],
          "contourcarpet": [
           {
            "colorbar": {
             "outlinewidth": 0,
             "ticks": ""
            },
            "type": "contourcarpet"
           }
          ],
          "heatmap": [
           {
            "colorbar": {
             "outlinewidth": 0,
             "ticks": ""
            },
            "colorscale": [
             [
              0,
              "#0d0887"
             ],
             [
              0.1111111111111111,
              "#46039f"
             ],
             [
              0.2222222222222222,
              "#7201a8"
             ],
             [
              0.3333333333333333,
              "#9c179e"
             ],
             [
              0.4444444444444444,
              "#bd3786"
             ],
             [
              0.5555555555555556,
              "#d8576b"
             ],
             [
              0.6666666666666666,
              "#ed7953"
             ],
             [
              0.7777777777777778,
              "#fb9f3a"
             ],
             [
              0.8888888888888888,
              "#fdca26"
             ],
             [
              1,
              "#f0f921"
             ]
            ],
            "type": "heatmap"
           }
          ],
          "heatmapgl": [
           {
            "colorbar": {
             "outlinewidth": 0,
             "ticks": ""
            },
            "colorscale": [
             [
              0,
              "#0d0887"
             ],
             [
              0.1111111111111111,
              "#46039f"
             ],
             [
              0.2222222222222222,
              "#7201a8"
             ],
             [
              0.3333333333333333,
              "#9c179e"
             ],
             [
              0.4444444444444444,
              "#bd3786"
             ],
             [
              0.5555555555555556,
              "#d8576b"
             ],
             [
              0.6666666666666666,
              "#ed7953"
             ],
             [
              0.7777777777777778,
              "#fb9f3a"
             ],
             [
              0.8888888888888888,
              "#fdca26"
             ],
             [
              1,
              "#f0f921"
             ]
            ],
            "type": "heatmapgl"
           }
          ],
          "histogram": [
           {
            "marker": {
             "pattern": {
              "fillmode": "overlay",
              "size": 10,
              "solidity": 0.2
             }
            },
            "type": "histogram"
           }
          ],
          "histogram2d": [
           {
            "colorbar": {
             "outlinewidth": 0,
             "ticks": ""
            },
            "colorscale": [
             [
              0,
              "#0d0887"
             ],
             [
              0.1111111111111111,
              "#46039f"
             ],
             [
              0.2222222222222222,
              "#7201a8"
             ],
             [
              0.3333333333333333,
              "#9c179e"
             ],
             [
              0.4444444444444444,
              "#bd3786"
             ],
             [
              0.5555555555555556,
              "#d8576b"
             ],
             [
              0.6666666666666666,
              "#ed7953"
             ],
             [
              0.7777777777777778,
              "#fb9f3a"
             ],
             [
              0.8888888888888888,
              "#fdca26"
             ],
             [
              1,
              "#f0f921"
             ]
            ],
            "type": "histogram2d"
           }
          ],
          "histogram2dcontour": [
           {
            "colorbar": {
             "outlinewidth": 0,
             "ticks": ""
            },
            "colorscale": [
             [
              0,
              "#0d0887"
             ],
             [
              0.1111111111111111,
              "#46039f"
             ],
             [
              0.2222222222222222,
              "#7201a8"
             ],
             [
              0.3333333333333333,
              "#9c179e"
             ],
             [
              0.4444444444444444,
              "#bd3786"
             ],
             [
              0.5555555555555556,
              "#d8576b"
             ],
             [
              0.6666666666666666,
              "#ed7953"
             ],
             [
              0.7777777777777778,
              "#fb9f3a"
             ],
             [
              0.8888888888888888,
              "#fdca26"
             ],
             [
              1,
              "#f0f921"
             ]
            ],
            "type": "histogram2dcontour"
           }
          ],
          "mesh3d": [
           {
            "colorbar": {
             "outlinewidth": 0,
             "ticks": ""
            },
            "type": "mesh3d"
           }
          ],
          "parcoords": [
           {
            "line": {
             "colorbar": {
              "outlinewidth": 0,
              "ticks": ""
             }
            },
            "type": "parcoords"
           }
          ],
          "pie": [
           {
            "automargin": true,
            "type": "pie"
           }
          ],
          "scatter": [
           {
            "fillpattern": {
             "fillmode": "overlay",
             "size": 10,
             "solidity": 0.2
            },
            "type": "scatter"
           }
          ],
          "scatter3d": [
           {
            "line": {
             "colorbar": {
              "outlinewidth": 0,
              "ticks": ""
             }
            },
            "marker": {
             "colorbar": {
              "outlinewidth": 0,
              "ticks": ""
             }
            },
            "type": "scatter3d"
           }
          ],
          "scattercarpet": [
           {
            "marker": {
             "colorbar": {
              "outlinewidth": 0,
              "ticks": ""
             }
            },
            "type": "scattercarpet"
           }
          ],
          "scattergeo": [
           {
            "marker": {
             "colorbar": {
              "outlinewidth": 0,
              "ticks": ""
             }
            },
            "type": "scattergeo"
           }
          ],
          "scattergl": [
           {
            "marker": {
             "colorbar": {
              "outlinewidth": 0,
              "ticks": ""
             }
            },
            "type": "scattergl"
           }
          ],
          "scattermapbox": [
           {
            "marker": {
             "colorbar": {
              "outlinewidth": 0,
              "ticks": ""
             }
            },
            "type": "scattermapbox"
           }
          ],
          "scatterpolar": [
           {
            "marker": {
             "colorbar": {
              "outlinewidth": 0,
              "ticks": ""
             }
            },
            "type": "scatterpolar"
           }
          ],
          "scatterpolargl": [
           {
            "marker": {
             "colorbar": {
              "outlinewidth": 0,
              "ticks": ""
             }
            },
            "type": "scatterpolargl"
           }
          ],
          "scatterternary": [
           {
            "marker": {
             "colorbar": {
              "outlinewidth": 0,
              "ticks": ""
             }
            },
            "type": "scatterternary"
           }
          ],
          "surface": [
           {
            "colorbar": {
             "outlinewidth": 0,
             "ticks": ""
            },
            "colorscale": [
             [
              0,
              "#0d0887"
             ],
             [
              0.1111111111111111,
              "#46039f"
             ],
             [
              0.2222222222222222,
              "#7201a8"
             ],
             [
              0.3333333333333333,
              "#9c179e"
             ],
             [
              0.4444444444444444,
              "#bd3786"
             ],
             [
              0.5555555555555556,
              "#d8576b"
             ],
             [
              0.6666666666666666,
              "#ed7953"
             ],
             [
              0.7777777777777778,
              "#fb9f3a"
             ],
             [
              0.8888888888888888,
              "#fdca26"
             ],
             [
              1,
              "#f0f921"
             ]
            ],
            "type": "surface"
           }
          ],
          "table": [
           {
            "cells": {
             "fill": {
              "color": "#EBF0F8"
             },
             "line": {
              "color": "white"
             }
            },
            "header": {
             "fill": {
              "color": "#C8D4E3"
             },
             "line": {
              "color": "white"
             }
            },
            "type": "table"
           }
          ]
         },
         "layout": {
          "annotationdefaults": {
           "arrowcolor": "#2a3f5f",
           "arrowhead": 0,
           "arrowwidth": 1
          },
          "autotypenumbers": "strict",
          "coloraxis": {
           "colorbar": {
            "outlinewidth": 0,
            "ticks": ""
           }
          },
          "colorscale": {
           "diverging": [
            [
             0,
             "#8e0152"
            ],
            [
             0.1,
             "#c51b7d"
            ],
            [
             0.2,
             "#de77ae"
            ],
            [
             0.3,
             "#f1b6da"
            ],
            [
             0.4,
             "#fde0ef"
            ],
            [
             0.5,
             "#f7f7f7"
            ],
            [
             0.6,
             "#e6f5d0"
            ],
            [
             0.7,
             "#b8e186"
            ],
            [
             0.8,
             "#7fbc41"
            ],
            [
             0.9,
             "#4d9221"
            ],
            [
             1,
             "#276419"
            ]
           ],
           "sequential": [
            [
             0,
             "#0d0887"
            ],
            [
             0.1111111111111111,
             "#46039f"
            ],
            [
             0.2222222222222222,
             "#7201a8"
            ],
            [
             0.3333333333333333,
             "#9c179e"
            ],
            [
             0.4444444444444444,
             "#bd3786"
            ],
            [
             0.5555555555555556,
             "#d8576b"
            ],
            [
             0.6666666666666666,
             "#ed7953"
            ],
            [
             0.7777777777777778,
             "#fb9f3a"
            ],
            [
             0.8888888888888888,
             "#fdca26"
            ],
            [
             1,
             "#f0f921"
            ]
           ],
           "sequentialminus": [
            [
             0,
             "#0d0887"
            ],
            [
             0.1111111111111111,
             "#46039f"
            ],
            [
             0.2222222222222222,
             "#7201a8"
            ],
            [
             0.3333333333333333,
             "#9c179e"
            ],
            [
             0.4444444444444444,
             "#bd3786"
            ],
            [
             0.5555555555555556,
             "#d8576b"
            ],
            [
             0.6666666666666666,
             "#ed7953"
            ],
            [
             0.7777777777777778,
             "#fb9f3a"
            ],
            [
             0.8888888888888888,
             "#fdca26"
            ],
            [
             1,
             "#f0f921"
            ]
           ]
          },
          "colorway": [
           "#636efa",
           "#EF553B",
           "#00cc96",
           "#ab63fa",
           "#FFA15A",
           "#19d3f3",
           "#FF6692",
           "#B6E880",
           "#FF97FF",
           "#FECB52"
          ],
          "font": {
           "color": "#2a3f5f"
          },
          "geo": {
           "bgcolor": "white",
           "lakecolor": "white",
           "landcolor": "#E5ECF6",
           "showlakes": true,
           "showland": true,
           "subunitcolor": "white"
          },
          "hoverlabel": {
           "align": "left"
          },
          "hovermode": "closest",
          "mapbox": {
           "style": "light"
          },
          "paper_bgcolor": "white",
          "plot_bgcolor": "#E5ECF6",
          "polar": {
           "angularaxis": {
            "gridcolor": "white",
            "linecolor": "white",
            "ticks": ""
           },
           "bgcolor": "#E5ECF6",
           "radialaxis": {
            "gridcolor": "white",
            "linecolor": "white",
            "ticks": ""
           }
          },
          "scene": {
           "xaxis": {
            "backgroundcolor": "#E5ECF6",
            "gridcolor": "white",
            "gridwidth": 2,
            "linecolor": "white",
            "showbackground": true,
            "ticks": "",
            "zerolinecolor": "white"
           },
           "yaxis": {
            "backgroundcolor": "#E5ECF6",
            "gridcolor": "white",
            "gridwidth": 2,
            "linecolor": "white",
            "showbackground": true,
            "ticks": "",
            "zerolinecolor": "white"
           },
           "zaxis": {
            "backgroundcolor": "#E5ECF6",
            "gridcolor": "white",
            "gridwidth": 2,
            "linecolor": "white",
            "showbackground": true,
            "ticks": "",
            "zerolinecolor": "white"
           }
          },
          "shapedefaults": {
           "line": {
            "color": "#2a3f5f"
           }
          },
          "ternary": {
           "aaxis": {
            "gridcolor": "white",
            "linecolor": "white",
            "ticks": ""
           },
           "baxis": {
            "gridcolor": "white",
            "linecolor": "white",
            "ticks": ""
           },
           "bgcolor": "#E5ECF6",
           "caxis": {
            "gridcolor": "white",
            "linecolor": "white",
            "ticks": ""
           }
          },
          "title": {
           "x": 0.05
          },
          "xaxis": {
           "automargin": true,
           "gridcolor": "white",
           "linecolor": "white",
           "ticks": "",
           "title": {
            "standoff": 15
           },
           "zerolinecolor": "white",
           "zerolinewidth": 2
          },
          "yaxis": {
           "automargin": true,
           "gridcolor": "white",
           "linecolor": "white",
           "ticks": "",
           "title": {
            "standoff": 15
           },
           "zerolinecolor": "white",
           "zerolinewidth": 2
          }
         }
        },
        "title": {
         "text": "Overall COVID-19 Recovery Cases by Country"
        },
        "xaxis": {
         "anchor": "y",
         "categoryorder": "total descending",
         "domain": [
          0,
          1
         ],
         "tickangle": -90,
         "title": {
          "text": "Country/Region"
         }
        },
        "yaxis": {
         "anchor": "x",
         "domain": [
          0,
          1
         ],
         "title": {
          "text": "Recovered Cases"
         }
        }
       }
      }
     },
     "metadata": {},
     "output_type": "display_data"
    }
   ],
   "source": [
    "country_data = df.groupby('Country/Region')['Recovered'].sum().reset_index()\n",
    "\n",
    "country_data = country_data.sort_values(by='Recovered', ascending=False)\n",
    "\n",
    "fig = px.bar(country_data, x='Country/Region', y='Recovered', \n",
    "             title='Overall COVID-19 Recovery Cases by Country', \n",
    "             labels={'Country/Region': 'Country/Region', 'Recovered': 'Recovered Cases'},\n",
    "             color='Recovered',\n",
    "             color_continuous_scale=px.colors.sequential.Greens)\n",
    "\n",
    "fig.update_layout(xaxis_tickangle=-90, xaxis={'categoryorder':'total descending'})\n",
    "\n",
    "fig.show()"
   ]
  },
  {
   "cell_type": "code",
   "execution_count": 20,
   "metadata": {},
   "outputs": [
    {
     "data": {
      "application/vnd.plotly.v1+json": {
       "config": {
        "plotlyServerURL": "https://plot.ly"
       },
       "data": [
        {
         "hovertemplate": "Status=Death Percentage<br>Date=%{x}<br>Percentage=%{y}<extra></extra>",
         "legendgroup": "Death Percentage",
         "line": {
          "color": "#636efa",
          "dash": "solid"
         },
         "marker": {
          "symbol": "circle"
         },
         "mode": "lines",
         "name": "Death Percentage",
         "orientation": "v",
         "showlegend": true,
         "type": "scatter",
         "x": [
          "2020-01-22",
          "2020-01-23",
          "2020-01-24",
          "2020-01-25",
          "2020-01-26",
          "2020-01-27",
          "2020-01-28",
          "2020-01-29",
          "2020-01-30",
          "2020-01-31",
          "2020-02-01",
          "2020-02-02",
          "2020-02-03",
          "2020-02-04",
          "2020-02-05",
          "2020-02-06",
          "2020-02-07",
          "2020-02-08",
          "2020-02-09",
          "2020-02-10",
          "2020-02-11",
          "2020-02-12",
          "2020-02-13",
          "2020-02-14",
          "2020-02-15",
          "2020-02-16",
          "2020-02-17",
          "2020-02-18",
          "2020-02-19",
          "2020-02-20",
          "2020-02-21",
          "2020-02-22",
          "2020-02-23",
          "2020-02-24",
          "2020-02-25",
          "2020-02-26",
          "2020-02-27",
          "2020-02-28",
          "2020-02-29",
          "2020-03-01",
          "2020-03-02",
          "2020-03-03",
          "2020-03-04",
          "2020-03-05",
          "2020-03-06",
          "2020-03-07",
          "2020-03-08",
          "2020-03-09",
          "2020-03-10",
          "2020-03-11",
          "2020-03-12",
          "2020-03-13",
          "2020-03-14",
          "2020-03-15",
          "2020-03-16",
          "2020-03-17",
          "2020-03-18",
          "2020-03-19",
          "2020-03-20",
          "2020-03-21",
          "2020-03-22",
          "2020-03-23",
          "2020-03-24",
          "2020-03-25",
          "2020-03-26",
          "2020-03-27",
          "2020-03-28",
          "2020-03-29",
          "2020-03-30",
          "2020-03-31",
          "2020-04-01",
          "2020-04-02",
          "2020-04-03",
          "2020-04-04",
          "2020-04-05",
          "2020-04-06",
          "2020-04-07",
          "2020-04-08",
          "2020-04-09",
          "2020-04-10",
          "2020-04-11",
          "2020-04-12",
          "2020-04-13",
          "2020-04-14",
          "2020-04-15",
          "2020-04-16",
          "2020-04-17",
          "2020-04-18",
          "2020-04-19",
          "2020-04-20",
          "2020-04-21",
          "2020-04-22",
          "2020-04-23",
          "2020-04-24",
          "2020-04-25",
          "2020-04-26",
          "2020-04-27",
          "2020-04-28",
          "2020-04-29",
          "2020-04-30",
          "2020-05-01",
          "2020-05-02",
          "2020-05-03",
          "2020-05-04",
          "2020-05-05",
          "2020-05-06",
          "2020-05-07",
          "2020-05-08",
          "2020-05-09",
          "2020-05-10",
          "2020-05-11",
          "2020-05-12",
          "2020-05-13",
          "2020-05-14",
          "2020-05-15",
          "2020-05-16",
          "2020-05-17",
          "2020-05-18",
          "2020-05-19",
          "2020-05-20",
          "2020-05-21",
          "2020-05-22",
          "2020-05-23",
          "2020-05-24",
          "2020-05-25",
          "2020-05-26",
          "2020-05-27",
          "2020-05-28",
          "2020-05-29",
          "2020-05-30",
          "2020-05-31",
          "2020-06-01",
          "2020-06-02",
          "2020-06-03",
          "2020-06-04",
          "2020-06-05",
          "2020-06-06",
          "2020-06-07",
          "2020-06-08",
          "2020-06-09",
          "2020-06-10",
          "2020-06-11",
          "2020-06-12",
          "2020-06-13",
          "2020-06-14",
          "2020-06-15",
          "2020-06-16",
          "2020-06-17",
          "2020-06-18",
          "2020-06-19",
          "2020-06-20",
          "2020-06-21",
          "2020-06-22",
          "2020-06-23",
          "2020-06-24",
          "2020-06-25",
          "2020-06-26",
          "2020-06-27",
          "2020-06-28",
          "2020-06-29",
          "2020-06-30",
          "2020-07-01",
          "2020-07-02",
          "2020-07-03",
          "2020-07-04",
          "2020-07-05",
          "2020-07-06",
          "2020-07-07",
          "2020-07-08",
          "2020-07-09",
          "2020-07-10",
          "2020-07-11",
          "2020-07-12",
          "2020-07-13",
          "2020-07-14",
          "2020-07-15",
          "2020-07-16",
          "2020-07-17",
          "2020-07-18",
          "2020-07-19",
          "2020-07-20",
          "2020-07-21",
          "2020-07-22",
          "2020-07-23",
          "2020-07-24",
          "2020-07-25",
          "2020-07-26",
          "2020-07-27"
         ],
         "xaxis": "x",
         "y": [
          null,
          null,
          null,
          null,
          null,
          null,
          null,
          null,
          0,
          0,
          0,
          0,
          0,
          0,
          0,
          0,
          0,
          0,
          0,
          0,
          0,
          0,
          0,
          0,
          0,
          0,
          0,
          0,
          0,
          0,
          0,
          0,
          0,
          0,
          0,
          0,
          0,
          0,
          0,
          0,
          0,
          0,
          0,
          0,
          0,
          0,
          0,
          0,
          0,
          1.6129032258064515,
          1.36986301369863,
          2.4390243902439024,
          1.9607843137254901,
          1.7699115044247788,
          1.680672268907563,
          2.112676056338028,
          1.9230769230769231,
          2.0618556701030926,
          2.0491803278688523,
          1.2121212121212122,
          1.7676767676767675,
          2.004008016032064,
          1.8656716417910446,
          1.82648401826484,
          2.7510316368638237,
          2.254791431792559,
          2.43161094224924,
          2.63671875,
          2.5579536370903275,
          2.505368647100931,
          2.902902902902903,
          2.8313016122689736,
          2.8048305414881183,
          2.790395846852693,
          2.7591973244147154,
          2.8463792381749684,
          2.824326868762945,
          3.008789722785666,
          3.360594795539033,
          3.2376941300342197,
          3.409898176651669,
          3.5958718087995654,
          3.424854108868267,
          3.421258814311831,
          3.28680409024509,
          3.3358153387937453,
          3.38628762541806,
          3.3138277572827883,
          3.1734317343173433,
          3.1932682453206755,
          3.212151394422311,
          3.186710341600375,
          3.1243229189236037,
          3.1797798613942114,
          3.1389110832096794,
          3.158838293295088,
          3.188346745441581,
          3.217979823777296,
          3.263565422539471,
          3.3100995324556117,
          3.2826046112140004,
          3.3325776467921107,
          3.2725561698623693,
          3.3723108727954005,
          3.427125506072874,
          3.3687508256742222,
          3.35220315522351,
          3.325236619482369,
          3.3451152719398802,
          3.2935781182531527,
          3.2415781144019897,
          3.2506864803747377,
          3.2682083146499266,
          3.2306059977804065,
          3.209223165159004,
          3.167196187450357,
          3.1609856005350165,
          3.145682162506977,
          3.1011974641934725,
          3.0653051022958544,
          3.0314820767005566,
          2.98572046733016,
          2.9431682430016055,
          2.9046601605358897,
          2.8782338737495685,
          2.8807703275350978,
          2.868059157673671,
          2.8484877801023063,
          2.870465903130422,
          2.8516116968327037,
          2.837221747136809,
          2.82704037908958,
          2.8133461395523938,
          2.8078072538095413,
          2.806632173717431,
          2.815177996816042,
          2.8164559528347026,
          2.7989871293973265,
          2.8101591408200717,
          2.8064864238482543,
          2.8268871792187853,
          2.856134572403247,
          2.8751460389070305,
          2.865182193804102,
          2.8638124804466583,
          2.8855318268331143,
          3.3618120966489204,
          3.334823107487205,
          3.3040585285862947,
          3.2775763957797537,
          3.2291308828581244,
          3.2211567853800536,
          3.1827629680951355,
          3.1732879129647533,
          3.1481383625199477,
          3.1200996735324766,
          3.0818169850654185,
          3.0433442562195214,
          3.0046432909370107,
          2.9802060546185873,
          2.9719153994749616,
          2.949518805373767,
          2.9115457905439106,
          2.8774592597734125,
          2.862299733349179,
          2.8237213817350693,
          2.8011683229951756,
          2.780378143280663,
          2.7536960964217196,
          2.7215854835336772,
          2.694916410448816,
          2.6689126355762416,
          2.63864440127799,
          2.616702251552795,
          2.5966132617517337,
          2.5714837174113416,
          2.5504267646379075,
          2.528477004746488,
          2.4880750356519554,
          2.4590281218308614,
          2.430630689893347,
          2.4082247765862754,
          2.4104817734610484,
          2.375654836395706,
          2.345358048920588,
          2.313740631551599,
          2.2827134832712925,
          2.2571859631247917
         ],
         "yaxis": "y"
        },
        {
         "hovertemplate": "Status=Recovered Percentage<br>Date=%{x}<br>Percentage=%{y}<extra></extra>",
         "legendgroup": "Recovered Percentage",
         "line": {
          "color": "#EF553B",
          "dash": "solid"
         },
         "marker": {
          "symbol": "circle"
         },
         "mode": "lines",
         "name": "Recovered Percentage",
         "orientation": "v",
         "showlegend": true,
         "type": "scatter",
         "x": [
          "2020-01-22",
          "2020-01-23",
          "2020-01-24",
          "2020-01-25",
          "2020-01-26",
          "2020-01-27",
          "2020-01-28",
          "2020-01-29",
          "2020-01-30",
          "2020-01-31",
          "2020-02-01",
          "2020-02-02",
          "2020-02-03",
          "2020-02-04",
          "2020-02-05",
          "2020-02-06",
          "2020-02-07",
          "2020-02-08",
          "2020-02-09",
          "2020-02-10",
          "2020-02-11",
          "2020-02-12",
          "2020-02-13",
          "2020-02-14",
          "2020-02-15",
          "2020-02-16",
          "2020-02-17",
          "2020-02-18",
          "2020-02-19",
          "2020-02-20",
          "2020-02-21",
          "2020-02-22",
          "2020-02-23",
          "2020-02-24",
          "2020-02-25",
          "2020-02-26",
          "2020-02-27",
          "2020-02-28",
          "2020-02-29",
          "2020-03-01",
          "2020-03-02",
          "2020-03-03",
          "2020-03-04",
          "2020-03-05",
          "2020-03-06",
          "2020-03-07",
          "2020-03-08",
          "2020-03-09",
          "2020-03-10",
          "2020-03-11",
          "2020-03-12",
          "2020-03-13",
          "2020-03-14",
          "2020-03-15",
          "2020-03-16",
          "2020-03-17",
          "2020-03-18",
          "2020-03-19",
          "2020-03-20",
          "2020-03-21",
          "2020-03-22",
          "2020-03-23",
          "2020-03-24",
          "2020-03-25",
          "2020-03-26",
          "2020-03-27",
          "2020-03-28",
          "2020-03-29",
          "2020-03-30",
          "2020-03-31",
          "2020-04-01",
          "2020-04-02",
          "2020-04-03",
          "2020-04-04",
          "2020-04-05",
          "2020-04-06",
          "2020-04-07",
          "2020-04-08",
          "2020-04-09",
          "2020-04-10",
          "2020-04-11",
          "2020-04-12",
          "2020-04-13",
          "2020-04-14",
          "2020-04-15",
          "2020-04-16",
          "2020-04-17",
          "2020-04-18",
          "2020-04-19",
          "2020-04-20",
          "2020-04-21",
          "2020-04-22",
          "2020-04-23",
          "2020-04-24",
          "2020-04-25",
          "2020-04-26",
          "2020-04-27",
          "2020-04-28",
          "2020-04-29",
          "2020-04-30",
          "2020-05-01",
          "2020-05-02",
          "2020-05-03",
          "2020-05-04",
          "2020-05-05",
          "2020-05-06",
          "2020-05-07",
          "2020-05-08",
          "2020-05-09",
          "2020-05-10",
          "2020-05-11",
          "2020-05-12",
          "2020-05-13",
          "2020-05-14",
          "2020-05-15",
          "2020-05-16",
          "2020-05-17",
          "2020-05-18",
          "2020-05-19",
          "2020-05-20",
          "2020-05-21",
          "2020-05-22",
          "2020-05-23",
          "2020-05-24",
          "2020-05-25",
          "2020-05-26",
          "2020-05-27",
          "2020-05-28",
          "2020-05-29",
          "2020-05-30",
          "2020-05-31",
          "2020-06-01",
          "2020-06-02",
          "2020-06-03",
          "2020-06-04",
          "2020-06-05",
          "2020-06-06",
          "2020-06-07",
          "2020-06-08",
          "2020-06-09",
          "2020-06-10",
          "2020-06-11",
          "2020-06-12",
          "2020-06-13",
          "2020-06-14",
          "2020-06-15",
          "2020-06-16",
          "2020-06-17",
          "2020-06-18",
          "2020-06-19",
          "2020-06-20",
          "2020-06-21",
          "2020-06-22",
          "2020-06-23",
          "2020-06-24",
          "2020-06-25",
          "2020-06-26",
          "2020-06-27",
          "2020-06-28",
          "2020-06-29",
          "2020-06-30",
          "2020-07-01",
          "2020-07-02",
          "2020-07-03",
          "2020-07-04",
          "2020-07-05",
          "2020-07-06",
          "2020-07-07",
          "2020-07-08",
          "2020-07-09",
          "2020-07-10",
          "2020-07-11",
          "2020-07-12",
          "2020-07-13",
          "2020-07-14",
          "2020-07-15",
          "2020-07-16",
          "2020-07-17",
          "2020-07-18",
          "2020-07-19",
          "2020-07-20",
          "2020-07-21",
          "2020-07-22",
          "2020-07-23",
          "2020-07-24",
          "2020-07-25",
          "2020-07-26",
          "2020-07-27"
         ],
         "xaxis": "x",
         "y": [
          null,
          null,
          null,
          null,
          null,
          null,
          null,
          null,
          0,
          0,
          0,
          0,
          0,
          0,
          0,
          0,
          0,
          0,
          0,
          0,
          0,
          0,
          0,
          0,
          0,
          100,
          100,
          100,
          100,
          100,
          100,
          100,
          100,
          100,
          100,
          100,
          100,
          100,
          100,
          100,
          60,
          60,
          10.714285714285714,
          10,
          9.67741935483871,
          8.823529411764707,
          7.6923076923076925,
          6.976744186046512,
          7.142857142857142,
          6.451612903225806,
          5.47945205479452,
          4.878048780487805,
          3.9215686274509802,
          11.504424778761061,
          10.92436974789916,
          9.859154929577464,
          8.974358974358974,
          7.731958762886598,
          8.19672131147541,
          6.969696969696971,
          6.8181818181818175,
          5.410821643286573,
          7.462686567164178,
          6.54490106544901,
          6.189821182943604,
          8.229988726042842,
          8.51063829787234,
          9.27734375,
          8.15347721822542,
          8.804581245526128,
          7.4074074074074066,
          7.510813999213527,
          7.479548110634983,
          7.430240103828682,
          6.382385730211817,
          7.848472164085392,
          7.926944078327998,
          8.553076402974984,
          9.219330855018587,
          10.186891287180837,
          11.47288657352593,
          11.732753938077133,
          11.298191906629675,
          11.830765212849307,
          11.621490017854244,
          13.164556962025317,
          14.221014492753623,
          15.66594580842132,
          16.202100482543287,
          17.65467393063272,
          19.795816733067728,
          20.44922788956481,
          21.71859427135243,
          22.413371381981246,
          22.59635505840277,
          23.38831122266045,
          24.233472547621474,
          24.731835014685224,
          25.518722400338756,
          26.010383501133006,
          26.859382129532705,
          27.252575631628,
          27.702623220797552,
          27.665439197191894,
          28.627530364372472,
          28.933511993507842,
          29.77054533193732,
          29.963983583214677,
          30.730161762832758,
          31.221988951921503,
          31.863271535157132,
          32.870295590373125,
          33.82230478508744,
          34.109784504311136,
          35.2723118530262,
          37.754831877151176,
          38.44907939559866,
          39.10473646439678,
          39.73608828363466,
          40.54522083764773,
          41.067954595435864,
          41.52763754667692,
          41.381645526277744,
          41.64404920020789,
          41.88064849948258,
          42.6259839647729,
          42.85578735624913,
          42.8815014571971,
          47.626101642160116,
          47.81248109466691,
          48.18870042862614,
          48.2704037908958,
          48.402198937212525,
          47.997915359923255,
          47.83581003294915,
          47.94270568709142,
          48.12830972094947,
          48.09892576683781,
          48.54509491290876,
          48.76768086447024,
          47.17503183824427,
          49.47149074898751,
          49.94611528416502,
          50.59765301225843,
          51.078742810386736,
          52.4680041155262,
          52.79680284693489,
          52.95738337521052,
          53.79600138753114,
          54.127852817885426,
          55.48238401173343,
          55.77381596211455,
          56.379269220721696,
          56.706409489174305,
          57.42847782204797,
          58.24559900978995,
          58.13523056156462,
          58.562490191147354,
          58.674528284681514,
          59.068167384094274,
          59.423277612766256,
          59.51630802410025,
          60.729860729221286,
          60.80794058443813,
          60.77009351347738,
          60.85820023429446,
          61.13047199804353,
          61.53293903560937,
          62.08529693886062,
          62.42274521858096,
          62.78181933352499,
          62.931625078573596,
          63.01946817207779,
          63.02274491812535,
          63.23905313181959,
          63.24648529143103,
          63.3330079136748,
          62.91608763102887,
          62.853492499867784,
          62.60805254130276,
          62.71567281609365,
          63.11825379396821,
          63.17470644931619,
          63.44258400693109,
          63.53154468431382,
          63.91098665954599,
          63.91458440139982,
          64.26480315497952
         ],
         "yaxis": "y"
        },
        {
         "hovertemplate": "Status=Active Percentage<br>Date=%{x}<br>Percentage=%{y}<extra></extra>",
         "legendgroup": "Active Percentage",
         "line": {
          "color": "#00cc96",
          "dash": "solid"
         },
         "marker": {
          "symbol": "circle"
         },
         "mode": "lines",
         "name": "Active Percentage",
         "orientation": "v",
         "showlegend": true,
         "type": "scatter",
         "x": [
          "2020-01-22",
          "2020-01-23",
          "2020-01-24",
          "2020-01-25",
          "2020-01-26",
          "2020-01-27",
          "2020-01-28",
          "2020-01-29",
          "2020-01-30",
          "2020-01-31",
          "2020-02-01",
          "2020-02-02",
          "2020-02-03",
          "2020-02-04",
          "2020-02-05",
          "2020-02-06",
          "2020-02-07",
          "2020-02-08",
          "2020-02-09",
          "2020-02-10",
          "2020-02-11",
          "2020-02-12",
          "2020-02-13",
          "2020-02-14",
          "2020-02-15",
          "2020-02-16",
          "2020-02-17",
          "2020-02-18",
          "2020-02-19",
          "2020-02-20",
          "2020-02-21",
          "2020-02-22",
          "2020-02-23",
          "2020-02-24",
          "2020-02-25",
          "2020-02-26",
          "2020-02-27",
          "2020-02-28",
          "2020-02-29",
          "2020-03-01",
          "2020-03-02",
          "2020-03-03",
          "2020-03-04",
          "2020-03-05",
          "2020-03-06",
          "2020-03-07",
          "2020-03-08",
          "2020-03-09",
          "2020-03-10",
          "2020-03-11",
          "2020-03-12",
          "2020-03-13",
          "2020-03-14",
          "2020-03-15",
          "2020-03-16",
          "2020-03-17",
          "2020-03-18",
          "2020-03-19",
          "2020-03-20",
          "2020-03-21",
          "2020-03-22",
          "2020-03-23",
          "2020-03-24",
          "2020-03-25",
          "2020-03-26",
          "2020-03-27",
          "2020-03-28",
          "2020-03-29",
          "2020-03-30",
          "2020-03-31",
          "2020-04-01",
          "2020-04-02",
          "2020-04-03",
          "2020-04-04",
          "2020-04-05",
          "2020-04-06",
          "2020-04-07",
          "2020-04-08",
          "2020-04-09",
          "2020-04-10",
          "2020-04-11",
          "2020-04-12",
          "2020-04-13",
          "2020-04-14",
          "2020-04-15",
          "2020-04-16",
          "2020-04-17",
          "2020-04-18",
          "2020-04-19",
          "2020-04-20",
          "2020-04-21",
          "2020-04-22",
          "2020-04-23",
          "2020-04-24",
          "2020-04-25",
          "2020-04-26",
          "2020-04-27",
          "2020-04-28",
          "2020-04-29",
          "2020-04-30",
          "2020-05-01",
          "2020-05-02",
          "2020-05-03",
          "2020-05-04",
          "2020-05-05",
          "2020-05-06",
          "2020-05-07",
          "2020-05-08",
          "2020-05-09",
          "2020-05-10",
          "2020-05-11",
          "2020-05-12",
          "2020-05-13",
          "2020-05-14",
          "2020-05-15",
          "2020-05-16",
          "2020-05-17",
          "2020-05-18",
          "2020-05-19",
          "2020-05-20",
          "2020-05-21",
          "2020-05-22",
          "2020-05-23",
          "2020-05-24",
          "2020-05-25",
          "2020-05-26",
          "2020-05-27",
          "2020-05-28",
          "2020-05-29",
          "2020-05-30",
          "2020-05-31",
          "2020-06-01",
          "2020-06-02",
          "2020-06-03",
          "2020-06-04",
          "2020-06-05",
          "2020-06-06",
          "2020-06-07",
          "2020-06-08",
          "2020-06-09",
          "2020-06-10",
          "2020-06-11",
          "2020-06-12",
          "2020-06-13",
          "2020-06-14",
          "2020-06-15",
          "2020-06-16",
          "2020-06-17",
          "2020-06-18",
          "2020-06-19",
          "2020-06-20",
          "2020-06-21",
          "2020-06-22",
          "2020-06-23",
          "2020-06-24",
          "2020-06-25",
          "2020-06-26",
          "2020-06-27",
          "2020-06-28",
          "2020-06-29",
          "2020-06-30",
          "2020-07-01",
          "2020-07-02",
          "2020-07-03",
          "2020-07-04",
          "2020-07-05",
          "2020-07-06",
          "2020-07-07",
          "2020-07-08",
          "2020-07-09",
          "2020-07-10",
          "2020-07-11",
          "2020-07-12",
          "2020-07-13",
          "2020-07-14",
          "2020-07-15",
          "2020-07-16",
          "2020-07-17",
          "2020-07-18",
          "2020-07-19",
          "2020-07-20",
          "2020-07-21",
          "2020-07-22",
          "2020-07-23",
          "2020-07-24",
          "2020-07-25",
          "2020-07-26",
          "2020-07-27"
         ],
         "xaxis": "x",
         "y": [
          null,
          null,
          null,
          null,
          null,
          null,
          null,
          null,
          100,
          100,
          100,
          100,
          100,
          100,
          100,
          100,
          100,
          100,
          100,
          100,
          100,
          100,
          100,
          100,
          100,
          0,
          0,
          0,
          0,
          0,
          0,
          0,
          0,
          0,
          0,
          0,
          0,
          0,
          0,
          0,
          40,
          40,
          89.28571428571429,
          90,
          90.32258064516128,
          91.17647058823529,
          92.3076923076923,
          93.02325581395348,
          92.85714285714286,
          91.93548387096774,
          93.15068493150685,
          92.6829268292683,
          94.11764705882352,
          86.72566371681415,
          87.39495798319328,
          88.02816901408451,
          89.1025641025641,
          90.20618556701031,
          89.75409836065575,
          91.81818181818183,
          91.41414141414141,
          92.58517034068137,
          90.67164179104478,
          91.62861491628614,
          91.05914718019257,
          89.5152198421646,
          89.05775075987842,
          88.0859375,
          89.28856914468425,
          88.69005010737294,
          89.68968968968969,
          89.65788438851749,
          89.71562134787689,
          89.77936404931862,
          90.85841694537346,
          89.30514859773963,
          89.24872905290906,
          88.43813387423936,
          87.42007434944237,
          86.57541458278494,
          85.1172152498224,
          84.6713742531233,
          85.27695398450206,
          84.74797597283886,
          85.09170589190067,
          83.49962769918093,
          82.39269788182831,
          81.02022643429589,
          80.62446778313938,
          79.15205782404661,
          76.99203187250995,
          76.36406176883482,
          75.15708280972396,
          74.40684875662454,
          74.26473385838756,
          73.45285048404446,
          72.57818070693695,
          72.05018516153748,
          71.21771217712177,
          70.67951696641138,
          69.8580132592533,
          69.41484672157989,
          69.02482060934008,
          68.9622499300127,
          67.94534412955466,
          67.69773718081794,
          66.87725151283917,
          66.71077979730296,
          65.92472296522736,
          65.48443292982535,
          64.89515035044087,
          63.879017929252136,
          62.909486900262635,
          62.65960949790846,
          61.51846498181479,
          59.077971935398466,
          58.389935003866334,
          57.74958137309625,
          57.162714252171874,
          56.38947406005641,
          55.90056332786359,
          55.48664198599291,
          55.675186230720655,
          55.45129063925622,
          55.24111762676785,
          54.493245707692004,
          54.27615348607719,
          54.27001076270059,
          49.50343245470947,
          49.33590720850039,
          48.97407782423705,
          48.90255583001462,
          48.78445492323508,
          49.1942773862672,
          49.35755779333342,
          49.242116316092535,
          49.05523432621583,
          49.102087103764866,
          48.64474594627117,
          48.4258327116815,
          49.99808098253694,
          47.672374678609245,
          47.178738676927956,
          46.53716479393747,
          46.0574447091666,
          44.646464057640685,
          43.84138505641619,
          43.70779351730227,
          42.89994008388256,
          42.59457078633482,
          41.28848510540844,
          41.00502725250539,
          40.43796781118317,
          40.12030259786095,
          39.423383815432096,
          38.63430131667758,
          38.78295245336996,
          38.39416555263312,
          38.32082842438147,
          37.951626561287135,
          37.604806987758785,
          37.53417317052598,
          36.3585934802348,
          36.31460015578847,
          36.36760675317344,
          36.31807838397047,
          36.06835967896129,
          35.68668282110997,
          35.16100696471766,
          34.85566929788536,
          34.523264256026195,
          34.39946228585016,
          34.34188742664423,
          34.36055283032185,
          34.16433360642867,
          34.18203099115762,
          34.11656532168729,
          34.55543536422464,
          34.658432464480256,
          34.93291933686638,
          34.85369649401301,
          34.47352142944552,
          34.41481177722276,
          34.1817611566732,
          34.1230972667656,
          33.77527270890241,
          33.80270211532889,
          33.47801088189569
         ],
         "yaxis": "y"
        }
       ],
       "layout": {
        "legend": {
         "title": {
          "text": "Status"
         },
         "tracegroupgap": 0
        },
        "template": {
         "data": {
          "bar": [
           {
            "error_x": {
             "color": "#2a3f5f"
            },
            "error_y": {
             "color": "#2a3f5f"
            },
            "marker": {
             "line": {
              "color": "#E5ECF6",
              "width": 0.5
             },
             "pattern": {
              "fillmode": "overlay",
              "size": 10,
              "solidity": 0.2
             }
            },
            "type": "bar"
           }
          ],
          "barpolar": [
           {
            "marker": {
             "line": {
              "color": "#E5ECF6",
              "width": 0.5
             },
             "pattern": {
              "fillmode": "overlay",
              "size": 10,
              "solidity": 0.2
             }
            },
            "type": "barpolar"
           }
          ],
          "carpet": [
           {
            "aaxis": {
             "endlinecolor": "#2a3f5f",
             "gridcolor": "white",
             "linecolor": "white",
             "minorgridcolor": "white",
             "startlinecolor": "#2a3f5f"
            },
            "baxis": {
             "endlinecolor": "#2a3f5f",
             "gridcolor": "white",
             "linecolor": "white",
             "minorgridcolor": "white",
             "startlinecolor": "#2a3f5f"
            },
            "type": "carpet"
           }
          ],
          "choropleth": [
           {
            "colorbar": {
             "outlinewidth": 0,
             "ticks": ""
            },
            "type": "choropleth"
           }
          ],
          "contour": [
           {
            "colorbar": {
             "outlinewidth": 0,
             "ticks": ""
            },
            "colorscale": [
             [
              0,
              "#0d0887"
             ],
             [
              0.1111111111111111,
              "#46039f"
             ],
             [
              0.2222222222222222,
              "#7201a8"
             ],
             [
              0.3333333333333333,
              "#9c179e"
             ],
             [
              0.4444444444444444,
              "#bd3786"
             ],
             [
              0.5555555555555556,
              "#d8576b"
             ],
             [
              0.6666666666666666,
              "#ed7953"
             ],
             [
              0.7777777777777778,
              "#fb9f3a"
             ],
             [
              0.8888888888888888,
              "#fdca26"
             ],
             [
              1,
              "#f0f921"
             ]
            ],
            "type": "contour"
           }
          ],
          "contourcarpet": [
           {
            "colorbar": {
             "outlinewidth": 0,
             "ticks": ""
            },
            "type": "contourcarpet"
           }
          ],
          "heatmap": [
           {
            "colorbar": {
             "outlinewidth": 0,
             "ticks": ""
            },
            "colorscale": [
             [
              0,
              "#0d0887"
             ],
             [
              0.1111111111111111,
              "#46039f"
             ],
             [
              0.2222222222222222,
              "#7201a8"
             ],
             [
              0.3333333333333333,
              "#9c179e"
             ],
             [
              0.4444444444444444,
              "#bd3786"
             ],
             [
              0.5555555555555556,
              "#d8576b"
             ],
             [
              0.6666666666666666,
              "#ed7953"
             ],
             [
              0.7777777777777778,
              "#fb9f3a"
             ],
             [
              0.8888888888888888,
              "#fdca26"
             ],
             [
              1,
              "#f0f921"
             ]
            ],
            "type": "heatmap"
           }
          ],
          "heatmapgl": [
           {
            "colorbar": {
             "outlinewidth": 0,
             "ticks": ""
            },
            "colorscale": [
             [
              0,
              "#0d0887"
             ],
             [
              0.1111111111111111,
              "#46039f"
             ],
             [
              0.2222222222222222,
              "#7201a8"
             ],
             [
              0.3333333333333333,
              "#9c179e"
             ],
             [
              0.4444444444444444,
              "#bd3786"
             ],
             [
              0.5555555555555556,
              "#d8576b"
             ],
             [
              0.6666666666666666,
              "#ed7953"
             ],
             [
              0.7777777777777778,
              "#fb9f3a"
             ],
             [
              0.8888888888888888,
              "#fdca26"
             ],
             [
              1,
              "#f0f921"
             ]
            ],
            "type": "heatmapgl"
           }
          ],
          "histogram": [
           {
            "marker": {
             "pattern": {
              "fillmode": "overlay",
              "size": 10,
              "solidity": 0.2
             }
            },
            "type": "histogram"
           }
          ],
          "histogram2d": [
           {
            "colorbar": {
             "outlinewidth": 0,
             "ticks": ""
            },
            "colorscale": [
             [
              0,
              "#0d0887"
             ],
             [
              0.1111111111111111,
              "#46039f"
             ],
             [
              0.2222222222222222,
              "#7201a8"
             ],
             [
              0.3333333333333333,
              "#9c179e"
             ],
             [
              0.4444444444444444,
              "#bd3786"
             ],
             [
              0.5555555555555556,
              "#d8576b"
             ],
             [
              0.6666666666666666,
              "#ed7953"
             ],
             [
              0.7777777777777778,
              "#fb9f3a"
             ],
             [
              0.8888888888888888,
              "#fdca26"
             ],
             [
              1,
              "#f0f921"
             ]
            ],
            "type": "histogram2d"
           }
          ],
          "histogram2dcontour": [
           {
            "colorbar": {
             "outlinewidth": 0,
             "ticks": ""
            },
            "colorscale": [
             [
              0,
              "#0d0887"
             ],
             [
              0.1111111111111111,
              "#46039f"
             ],
             [
              0.2222222222222222,
              "#7201a8"
             ],
             [
              0.3333333333333333,
              "#9c179e"
             ],
             [
              0.4444444444444444,
              "#bd3786"
             ],
             [
              0.5555555555555556,
              "#d8576b"
             ],
             [
              0.6666666666666666,
              "#ed7953"
             ],
             [
              0.7777777777777778,
              "#fb9f3a"
             ],
             [
              0.8888888888888888,
              "#fdca26"
             ],
             [
              1,
              "#f0f921"
             ]
            ],
            "type": "histogram2dcontour"
           }
          ],
          "mesh3d": [
           {
            "colorbar": {
             "outlinewidth": 0,
             "ticks": ""
            },
            "type": "mesh3d"
           }
          ],
          "parcoords": [
           {
            "line": {
             "colorbar": {
              "outlinewidth": 0,
              "ticks": ""
             }
            },
            "type": "parcoords"
           }
          ],
          "pie": [
           {
            "automargin": true,
            "type": "pie"
           }
          ],
          "scatter": [
           {
            "fillpattern": {
             "fillmode": "overlay",
             "size": 10,
             "solidity": 0.2
            },
            "type": "scatter"
           }
          ],
          "scatter3d": [
           {
            "line": {
             "colorbar": {
              "outlinewidth": 0,
              "ticks": ""
             }
            },
            "marker": {
             "colorbar": {
              "outlinewidth": 0,
              "ticks": ""
             }
            },
            "type": "scatter3d"
           }
          ],
          "scattercarpet": [
           {
            "marker": {
             "colorbar": {
              "outlinewidth": 0,
              "ticks": ""
             }
            },
            "type": "scattercarpet"
           }
          ],
          "scattergeo": [
           {
            "marker": {
             "colorbar": {
              "outlinewidth": 0,
              "ticks": ""
             }
            },
            "type": "scattergeo"
           }
          ],
          "scattergl": [
           {
            "marker": {
             "colorbar": {
              "outlinewidth": 0,
              "ticks": ""
             }
            },
            "type": "scattergl"
           }
          ],
          "scattermapbox": [
           {
            "marker": {
             "colorbar": {
              "outlinewidth": 0,
              "ticks": ""
             }
            },
            "type": "scattermapbox"
           }
          ],
          "scatterpolar": [
           {
            "marker": {
             "colorbar": {
              "outlinewidth": 0,
              "ticks": ""
             }
            },
            "type": "scatterpolar"
           }
          ],
          "scatterpolargl": [
           {
            "marker": {
             "colorbar": {
              "outlinewidth": 0,
              "ticks": ""
             }
            },
            "type": "scatterpolargl"
           }
          ],
          "scatterternary": [
           {
            "marker": {
             "colorbar": {
              "outlinewidth": 0,
              "ticks": ""
             }
            },
            "type": "scatterternary"
           }
          ],
          "surface": [
           {
            "colorbar": {
             "outlinewidth": 0,
             "ticks": ""
            },
            "colorscale": [
             [
              0,
              "#0d0887"
             ],
             [
              0.1111111111111111,
              "#46039f"
             ],
             [
              0.2222222222222222,
              "#7201a8"
             ],
             [
              0.3333333333333333,
              "#9c179e"
             ],
             [
              0.4444444444444444,
              "#bd3786"
             ],
             [
              0.5555555555555556,
              "#d8576b"
             ],
             [
              0.6666666666666666,
              "#ed7953"
             ],
             [
              0.7777777777777778,
              "#fb9f3a"
             ],
             [
              0.8888888888888888,
              "#fdca26"
             ],
             [
              1,
              "#f0f921"
             ]
            ],
            "type": "surface"
           }
          ],
          "table": [
           {
            "cells": {
             "fill": {
              "color": "#EBF0F8"
             },
             "line": {
              "color": "white"
             }
            },
            "header": {
             "fill": {
              "color": "#C8D4E3"
             },
             "line": {
              "color": "white"
             }
            },
            "type": "table"
           }
          ]
         },
         "layout": {
          "annotationdefaults": {
           "arrowcolor": "#2a3f5f",
           "arrowhead": 0,
           "arrowwidth": 1
          },
          "autotypenumbers": "strict",
          "coloraxis": {
           "colorbar": {
            "outlinewidth": 0,
            "ticks": ""
           }
          },
          "colorscale": {
           "diverging": [
            [
             0,
             "#8e0152"
            ],
            [
             0.1,
             "#c51b7d"
            ],
            [
             0.2,
             "#de77ae"
            ],
            [
             0.3,
             "#f1b6da"
            ],
            [
             0.4,
             "#fde0ef"
            ],
            [
             0.5,
             "#f7f7f7"
            ],
            [
             0.6,
             "#e6f5d0"
            ],
            [
             0.7,
             "#b8e186"
            ],
            [
             0.8,
             "#7fbc41"
            ],
            [
             0.9,
             "#4d9221"
            ],
            [
             1,
             "#276419"
            ]
           ],
           "sequential": [
            [
             0,
             "#0d0887"
            ],
            [
             0.1111111111111111,
             "#46039f"
            ],
            [
             0.2222222222222222,
             "#7201a8"
            ],
            [
             0.3333333333333333,
             "#9c179e"
            ],
            [
             0.4444444444444444,
             "#bd3786"
            ],
            [
             0.5555555555555556,
             "#d8576b"
            ],
            [
             0.6666666666666666,
             "#ed7953"
            ],
            [
             0.7777777777777778,
             "#fb9f3a"
            ],
            [
             0.8888888888888888,
             "#fdca26"
            ],
            [
             1,
             "#f0f921"
            ]
           ],
           "sequentialminus": [
            [
             0,
             "#0d0887"
            ],
            [
             0.1111111111111111,
             "#46039f"
            ],
            [
             0.2222222222222222,
             "#7201a8"
            ],
            [
             0.3333333333333333,
             "#9c179e"
            ],
            [
             0.4444444444444444,
             "#bd3786"
            ],
            [
             0.5555555555555556,
             "#d8576b"
            ],
            [
             0.6666666666666666,
             "#ed7953"
            ],
            [
             0.7777777777777778,
             "#fb9f3a"
            ],
            [
             0.8888888888888888,
             "#fdca26"
            ],
            [
             1,
             "#f0f921"
            ]
           ]
          },
          "colorway": [
           "#636efa",
           "#EF553B",
           "#00cc96",
           "#ab63fa",
           "#FFA15A",
           "#19d3f3",
           "#FF6692",
           "#B6E880",
           "#FF97FF",
           "#FECB52"
          ],
          "font": {
           "color": "#2a3f5f"
          },
          "geo": {
           "bgcolor": "white",
           "lakecolor": "white",
           "landcolor": "#E5ECF6",
           "showlakes": true,
           "showland": true,
           "subunitcolor": "white"
          },
          "hoverlabel": {
           "align": "left"
          },
          "hovermode": "closest",
          "mapbox": {
           "style": "light"
          },
          "paper_bgcolor": "white",
          "plot_bgcolor": "#E5ECF6",
          "polar": {
           "angularaxis": {
            "gridcolor": "white",
            "linecolor": "white",
            "ticks": ""
           },
           "bgcolor": "#E5ECF6",
           "radialaxis": {
            "gridcolor": "white",
            "linecolor": "white",
            "ticks": ""
           }
          },
          "scene": {
           "xaxis": {
            "backgroundcolor": "#E5ECF6",
            "gridcolor": "white",
            "gridwidth": 2,
            "linecolor": "white",
            "showbackground": true,
            "ticks": "",
            "zerolinecolor": "white"
           },
           "yaxis": {
            "backgroundcolor": "#E5ECF6",
            "gridcolor": "white",
            "gridwidth": 2,
            "linecolor": "white",
            "showbackground": true,
            "ticks": "",
            "zerolinecolor": "white"
           },
           "zaxis": {
            "backgroundcolor": "#E5ECF6",
            "gridcolor": "white",
            "gridwidth": 2,
            "linecolor": "white",
            "showbackground": true,
            "ticks": "",
            "zerolinecolor": "white"
           }
          },
          "shapedefaults": {
           "line": {
            "color": "#2a3f5f"
           }
          },
          "ternary": {
           "aaxis": {
            "gridcolor": "white",
            "linecolor": "white",
            "ticks": ""
           },
           "baxis": {
            "gridcolor": "white",
            "linecolor": "white",
            "ticks": ""
           },
           "bgcolor": "#E5ECF6",
           "caxis": {
            "gridcolor": "white",
            "linecolor": "white",
            "ticks": ""
           }
          },
          "title": {
           "x": 0.05
          },
          "xaxis": {
           "automargin": true,
           "gridcolor": "white",
           "linecolor": "white",
           "ticks": "",
           "title": {
            "standoff": 15
           },
           "zerolinecolor": "white",
           "zerolinewidth": 2
          },
          "yaxis": {
           "automargin": true,
           "gridcolor": "white",
           "linecolor": "white",
           "ticks": "",
           "title": {
            "standoff": 15
           },
           "zerolinecolor": "white",
           "zerolinewidth": 2
          }
         }
        },
        "title": {
         "text": "COVID-19 Confirmed, Death, and Recovery Percentages in India"
        },
        "xaxis": {
         "anchor": "y",
         "domain": [
          0,
          1
         ],
         "tickangle": -90,
         "title": {
          "text": "Date"
         }
        },
        "yaxis": {
         "anchor": "x",
         "domain": [
          0,
          1
         ],
         "title": {
          "text": "Percentage"
         }
        }
       }
      }
     },
     "metadata": {},
     "output_type": "display_data"
    }
   ],
   "source": [
    "\n",
    "india_data = df[df['Country/Region'] == 'India']\n",
    "\n",
    "india_data = india_data.groupby('Date')[['Confirmed', 'Deaths', 'Recovered']].sum().reset_index()\n",
    "\n",
    "india_data['Active'] = india_data['Confirmed'] - india_data['Deaths'] - india_data['Recovered']\n",
    "india_data['Death Percentage'] = (india_data['Deaths'] / india_data['Confirmed']) * 100\n",
    "india_data['Recovered Percentage'] = (india_data['Recovered'] / india_data['Confirmed']) * 100\n",
    "india_data['Active Percentage'] = (india_data['Active'] / india_data['Confirmed']) * 100\n",
    "\n",
    "india_data_melted = india_data.melt(id_vars='Date', value_vars=['Death Percentage', 'Recovered Percentage', 'Active Percentage'],\n",
    "                                    var_name='Status', value_name='Percentage')\n",
    "\n",
    "fig = px.line(india_data_melted, x='Date', y='Percentage', color='Status',\n",
    "              title='COVID-19 Confirmed, Death, and Recovery Percentages in India',\n",
    "              labels={'Date': 'Date', 'Percentage': 'Percentage'})\n",
    "\n",
    "fig.update_layout(xaxis_tickangle=-90)\n",
    "\n",
    "fig.show()"
   ]
  },
  {
   "cell_type": "code",
   "execution_count": 21,
   "metadata": {},
   "outputs": [
    {
     "data": {
      "application/vnd.plotly.v1+json": {
       "config": {
        "plotlyServerURL": "https://plot.ly"
       },
       "data": [
        {
         "domain": {
          "x": [
           0,
           1
          ],
          "y": [
           0,
           1
          ]
         },
         "hovertemplate": "label=%{label}<br>value=%{value}<extra></extra>",
         "labels": [
          "Deaths",
          "Recovered",
          "Active"
         ],
         "legendgroup": "",
         "name": "",
         "showlegend": true,
         "type": "pie",
         "values": [
          2.719512710566795,
          58.174424750309804,
          39.1060625391234
         ]
        }
       ],
       "layout": {
        "legend": {
         "tracegroupgap": 0
        },
        "piecolorway": [
         "rgb(103,0,31)",
         "rgb(178,24,43)",
         "rgb(214,96,77)",
         "rgb(244,165,130)",
         "rgb(253,219,199)",
         "rgb(247,247,247)",
         "rgb(209,229,240)",
         "rgb(146,197,222)",
         "rgb(67,147,195)",
         "rgb(33,102,172)",
         "rgb(5,48,97)"
        ],
        "template": {
         "data": {
          "bar": [
           {
            "error_x": {
             "color": "#2a3f5f"
            },
            "error_y": {
             "color": "#2a3f5f"
            },
            "marker": {
             "line": {
              "color": "#E5ECF6",
              "width": 0.5
             },
             "pattern": {
              "fillmode": "overlay",
              "size": 10,
              "solidity": 0.2
             }
            },
            "type": "bar"
           }
          ],
          "barpolar": [
           {
            "marker": {
             "line": {
              "color": "#E5ECF6",
              "width": 0.5
             },
             "pattern": {
              "fillmode": "overlay",
              "size": 10,
              "solidity": 0.2
             }
            },
            "type": "barpolar"
           }
          ],
          "carpet": [
           {
            "aaxis": {
             "endlinecolor": "#2a3f5f",
             "gridcolor": "white",
             "linecolor": "white",
             "minorgridcolor": "white",
             "startlinecolor": "#2a3f5f"
            },
            "baxis": {
             "endlinecolor": "#2a3f5f",
             "gridcolor": "white",
             "linecolor": "white",
             "minorgridcolor": "white",
             "startlinecolor": "#2a3f5f"
            },
            "type": "carpet"
           }
          ],
          "choropleth": [
           {
            "colorbar": {
             "outlinewidth": 0,
             "ticks": ""
            },
            "type": "choropleth"
           }
          ],
          "contour": [
           {
            "colorbar": {
             "outlinewidth": 0,
             "ticks": ""
            },
            "colorscale": [
             [
              0,
              "#0d0887"
             ],
             [
              0.1111111111111111,
              "#46039f"
             ],
             [
              0.2222222222222222,
              "#7201a8"
             ],
             [
              0.3333333333333333,
              "#9c179e"
             ],
             [
              0.4444444444444444,
              "#bd3786"
             ],
             [
              0.5555555555555556,
              "#d8576b"
             ],
             [
              0.6666666666666666,
              "#ed7953"
             ],
             [
              0.7777777777777778,
              "#fb9f3a"
             ],
             [
              0.8888888888888888,
              "#fdca26"
             ],
             [
              1,
              "#f0f921"
             ]
            ],
            "type": "contour"
           }
          ],
          "contourcarpet": [
           {
            "colorbar": {
             "outlinewidth": 0,
             "ticks": ""
            },
            "type": "contourcarpet"
           }
          ],
          "heatmap": [
           {
            "colorbar": {
             "outlinewidth": 0,
             "ticks": ""
            },
            "colorscale": [
             [
              0,
              "#0d0887"
             ],
             [
              0.1111111111111111,
              "#46039f"
             ],
             [
              0.2222222222222222,
              "#7201a8"
             ],
             [
              0.3333333333333333,
              "#9c179e"
             ],
             [
              0.4444444444444444,
              "#bd3786"
             ],
             [
              0.5555555555555556,
              "#d8576b"
             ],
             [
              0.6666666666666666,
              "#ed7953"
             ],
             [
              0.7777777777777778,
              "#fb9f3a"
             ],
             [
              0.8888888888888888,
              "#fdca26"
             ],
             [
              1,
              "#f0f921"
             ]
            ],
            "type": "heatmap"
           }
          ],
          "heatmapgl": [
           {
            "colorbar": {
             "outlinewidth": 0,
             "ticks": ""
            },
            "colorscale": [
             [
              0,
              "#0d0887"
             ],
             [
              0.1111111111111111,
              "#46039f"
             ],
             [
              0.2222222222222222,
              "#7201a8"
             ],
             [
              0.3333333333333333,
              "#9c179e"
             ],
             [
              0.4444444444444444,
              "#bd3786"
             ],
             [
              0.5555555555555556,
              "#d8576b"
             ],
             [
              0.6666666666666666,
              "#ed7953"
             ],
             [
              0.7777777777777778,
              "#fb9f3a"
             ],
             [
              0.8888888888888888,
              "#fdca26"
             ],
             [
              1,
              "#f0f921"
             ]
            ],
            "type": "heatmapgl"
           }
          ],
          "histogram": [
           {
            "marker": {
             "pattern": {
              "fillmode": "overlay",
              "size": 10,
              "solidity": 0.2
             }
            },
            "type": "histogram"
           }
          ],
          "histogram2d": [
           {
            "colorbar": {
             "outlinewidth": 0,
             "ticks": ""
            },
            "colorscale": [
             [
              0,
              "#0d0887"
             ],
             [
              0.1111111111111111,
              "#46039f"
             ],
             [
              0.2222222222222222,
              "#7201a8"
             ],
             [
              0.3333333333333333,
              "#9c179e"
             ],
             [
              0.4444444444444444,
              "#bd3786"
             ],
             [
              0.5555555555555556,
              "#d8576b"
             ],
             [
              0.6666666666666666,
              "#ed7953"
             ],
             [
              0.7777777777777778,
              "#fb9f3a"
             ],
             [
              0.8888888888888888,
              "#fdca26"
             ],
             [
              1,
              "#f0f921"
             ]
            ],
            "type": "histogram2d"
           }
          ],
          "histogram2dcontour": [
           {
            "colorbar": {
             "outlinewidth": 0,
             "ticks": ""
            },
            "colorscale": [
             [
              0,
              "#0d0887"
             ],
             [
              0.1111111111111111,
              "#46039f"
             ],
             [
              0.2222222222222222,
              "#7201a8"
             ],
             [
              0.3333333333333333,
              "#9c179e"
             ],
             [
              0.4444444444444444,
              "#bd3786"
             ],
             [
              0.5555555555555556,
              "#d8576b"
             ],
             [
              0.6666666666666666,
              "#ed7953"
             ],
             [
              0.7777777777777778,
              "#fb9f3a"
             ],
             [
              0.8888888888888888,
              "#fdca26"
             ],
             [
              1,
              "#f0f921"
             ]
            ],
            "type": "histogram2dcontour"
           }
          ],
          "mesh3d": [
           {
            "colorbar": {
             "outlinewidth": 0,
             "ticks": ""
            },
            "type": "mesh3d"
           }
          ],
          "parcoords": [
           {
            "line": {
             "colorbar": {
              "outlinewidth": 0,
              "ticks": ""
             }
            },
            "type": "parcoords"
           }
          ],
          "pie": [
           {
            "automargin": true,
            "type": "pie"
           }
          ],
          "scatter": [
           {
            "fillpattern": {
             "fillmode": "overlay",
             "size": 10,
             "solidity": 0.2
            },
            "type": "scatter"
           }
          ],
          "scatter3d": [
           {
            "line": {
             "colorbar": {
              "outlinewidth": 0,
              "ticks": ""
             }
            },
            "marker": {
             "colorbar": {
              "outlinewidth": 0,
              "ticks": ""
             }
            },
            "type": "scatter3d"
           }
          ],
          "scattercarpet": [
           {
            "marker": {
             "colorbar": {
              "outlinewidth": 0,
              "ticks": ""
             }
            },
            "type": "scattercarpet"
           }
          ],
          "scattergeo": [
           {
            "marker": {
             "colorbar": {
              "outlinewidth": 0,
              "ticks": ""
             }
            },
            "type": "scattergeo"
           }
          ],
          "scattergl": [
           {
            "marker": {
             "colorbar": {
              "outlinewidth": 0,
              "ticks": ""
             }
            },
            "type": "scattergl"
           }
          ],
          "scattermapbox": [
           {
            "marker": {
             "colorbar": {
              "outlinewidth": 0,
              "ticks": ""
             }
            },
            "type": "scattermapbox"
           }
          ],
          "scatterpolar": [
           {
            "marker": {
             "colorbar": {
              "outlinewidth": 0,
              "ticks": ""
             }
            },
            "type": "scatterpolar"
           }
          ],
          "scatterpolargl": [
           {
            "marker": {
             "colorbar": {
              "outlinewidth": 0,
              "ticks": ""
             }
            },
            "type": "scatterpolargl"
           }
          ],
          "scatterternary": [
           {
            "marker": {
             "colorbar": {
              "outlinewidth": 0,
              "ticks": ""
             }
            },
            "type": "scatterternary"
           }
          ],
          "surface": [
           {
            "colorbar": {
             "outlinewidth": 0,
             "ticks": ""
            },
            "colorscale": [
             [
              0,
              "#0d0887"
             ],
             [
              0.1111111111111111,
              "#46039f"
             ],
             [
              0.2222222222222222,
              "#7201a8"
             ],
             [
              0.3333333333333333,
              "#9c179e"
             ],
             [
              0.4444444444444444,
              "#bd3786"
             ],
             [
              0.5555555555555556,
              "#d8576b"
             ],
             [
              0.6666666666666666,
              "#ed7953"
             ],
             [
              0.7777777777777778,
              "#fb9f3a"
             ],
             [
              0.8888888888888888,
              "#fdca26"
             ],
             [
              1,
              "#f0f921"
             ]
            ],
            "type": "surface"
           }
          ],
          "table": [
           {
            "cells": {
             "fill": {
              "color": "#EBF0F8"
             },
             "line": {
              "color": "white"
             }
            },
            "header": {
             "fill": {
              "color": "#C8D4E3"
             },
             "line": {
              "color": "white"
             }
            },
            "type": "table"
           }
          ]
         },
         "layout": {
          "annotationdefaults": {
           "arrowcolor": "#2a3f5f",
           "arrowhead": 0,
           "arrowwidth": 1
          },
          "autotypenumbers": "strict",
          "coloraxis": {
           "colorbar": {
            "outlinewidth": 0,
            "ticks": ""
           }
          },
          "colorscale": {
           "diverging": [
            [
             0,
             "#8e0152"
            ],
            [
             0.1,
             "#c51b7d"
            ],
            [
             0.2,
             "#de77ae"
            ],
            [
             0.3,
             "#f1b6da"
            ],
            [
             0.4,
             "#fde0ef"
            ],
            [
             0.5,
             "#f7f7f7"
            ],
            [
             0.6,
             "#e6f5d0"
            ],
            [
             0.7,
             "#b8e186"
            ],
            [
             0.8,
             "#7fbc41"
            ],
            [
             0.9,
             "#4d9221"
            ],
            [
             1,
             "#276419"
            ]
           ],
           "sequential": [
            [
             0,
             "#0d0887"
            ],
            [
             0.1111111111111111,
             "#46039f"
            ],
            [
             0.2222222222222222,
             "#7201a8"
            ],
            [
             0.3333333333333333,
             "#9c179e"
            ],
            [
             0.4444444444444444,
             "#bd3786"
            ],
            [
             0.5555555555555556,
             "#d8576b"
            ],
            [
             0.6666666666666666,
             "#ed7953"
            ],
            [
             0.7777777777777778,
             "#fb9f3a"
            ],
            [
             0.8888888888888888,
             "#fdca26"
            ],
            [
             1,
             "#f0f921"
            ]
           ],
           "sequentialminus": [
            [
             0,
             "#0d0887"
            ],
            [
             0.1111111111111111,
             "#46039f"
            ],
            [
             0.2222222222222222,
             "#7201a8"
            ],
            [
             0.3333333333333333,
             "#9c179e"
            ],
            [
             0.4444444444444444,
             "#bd3786"
            ],
            [
             0.5555555555555556,
             "#d8576b"
            ],
            [
             0.6666666666666666,
             "#ed7953"
            ],
            [
             0.7777777777777778,
             "#fb9f3a"
            ],
            [
             0.8888888888888888,
             "#fdca26"
            ],
            [
             1,
             "#f0f921"
            ]
           ]
          },
          "colorway": [
           "#636efa",
           "#EF553B",
           "#00cc96",
           "#ab63fa",
           "#FFA15A",
           "#19d3f3",
           "#FF6692",
           "#B6E880",
           "#FF97FF",
           "#FECB52"
          ],
          "font": {
           "color": "#2a3f5f"
          },
          "geo": {
           "bgcolor": "white",
           "lakecolor": "white",
           "landcolor": "#E5ECF6",
           "showlakes": true,
           "showland": true,
           "subunitcolor": "white"
          },
          "hoverlabel": {
           "align": "left"
          },
          "hovermode": "closest",
          "mapbox": {
           "style": "light"
          },
          "paper_bgcolor": "white",
          "plot_bgcolor": "#E5ECF6",
          "polar": {
           "angularaxis": {
            "gridcolor": "white",
            "linecolor": "white",
            "ticks": ""
           },
           "bgcolor": "#E5ECF6",
           "radialaxis": {
            "gridcolor": "white",
            "linecolor": "white",
            "ticks": ""
           }
          },
          "scene": {
           "xaxis": {
            "backgroundcolor": "#E5ECF6",
            "gridcolor": "white",
            "gridwidth": 2,
            "linecolor": "white",
            "showbackground": true,
            "ticks": "",
            "zerolinecolor": "white"
           },
           "yaxis": {
            "backgroundcolor": "#E5ECF6",
            "gridcolor": "white",
            "gridwidth": 2,
            "linecolor": "white",
            "showbackground": true,
            "ticks": "",
            "zerolinecolor": "white"
           },
           "zaxis": {
            "backgroundcolor": "#E5ECF6",
            "gridcolor": "white",
            "gridwidth": 2,
            "linecolor": "white",
            "showbackground": true,
            "ticks": "",
            "zerolinecolor": "white"
           }
          },
          "shapedefaults": {
           "line": {
            "color": "#2a3f5f"
           }
          },
          "ternary": {
           "aaxis": {
            "gridcolor": "white",
            "linecolor": "white",
            "ticks": ""
           },
           "baxis": {
            "gridcolor": "white",
            "linecolor": "white",
            "ticks": ""
           },
           "bgcolor": "#E5ECF6",
           "caxis": {
            "gridcolor": "white",
            "linecolor": "white",
            "ticks": ""
           }
          },
          "title": {
           "x": 0.05
          },
          "xaxis": {
           "automargin": true,
           "gridcolor": "white",
           "linecolor": "white",
           "ticks": "",
           "title": {
            "standoff": 15
           },
           "zerolinecolor": "white",
           "zerolinewidth": 2
          },
          "yaxis": {
           "automargin": true,
           "gridcolor": "white",
           "linecolor": "white",
           "ticks": "",
           "title": {
            "standoff": 15
           },
           "zerolinecolor": "white",
           "zerolinewidth": 2
          }
         }
        },
        "title": {
         "text": "COVID-19 Confirmed, Death, Recovery, and Active Percentages in India"
        }
       }
      }
     },
     "metadata": {},
     "output_type": "display_data"
    }
   ],
   "source": [
    "\n",
    "india_data = df[df['Country/Region'] == 'India']\n",
    "\n",
    "total_confirmed = india_data['Confirmed'].sum()\n",
    "total_deaths = india_data['Deaths'].sum()\n",
    "total_recovered = india_data['Recovered'].sum()\n",
    "total_active = total_confirmed - total_deaths - total_recovered\n",
    "\n",
    "death_percentage = (total_deaths / total_confirmed) * 100\n",
    "recovered_percentage = (total_recovered / total_confirmed) * 100\n",
    "active_percentage = (total_active / total_confirmed) * 100\n",
    "\n",
    "labels = ['Deaths', 'Recovered', 'Active']\n",
    "values = [death_percentage, recovered_percentage, active_percentage]\n",
    "\n",
    "fig = px.pie(values=values, names=labels, title='COVID-19 Confirmed, Death, Recovery, and Active Percentages in India',\n",
    "             color_discrete_sequence=px.colors.sequential.RdBu)\n",
    "\n",
    "fig.show()"
   ]
  },
  {
   "cell_type": "code",
   "execution_count": 22,
   "metadata": {},
   "outputs": [],
   "source": [
    "df['Province/State'] = df['Province/State'].fillna('Unknown')\n",
    "df[['Confirmed', 'Deaths', 'Recovered', 'Active']] = df[['Confirmed', 'Deaths', 'Recovered', 'Active']].fillna(0)\n",
    "df['Date'] = pd.to_datetime(df['Date'])"
   ]
  },
  {
   "cell_type": "code",
   "execution_count": 23,
   "metadata": {},
   "outputs": [],
   "source": [
    "label_encoder = LabelEncoder()\n",
    "df['WHO_Region_encoded'] = label_encoder.fit_transform(df['WHO Region'])\n",
    "df['Country_Region_encoded'] = label_encoder.fit_transform(df['Country/Region'])\n",
    "\n",
    "df['Mortality_Rate'] = df['Deaths'] / df['Confirmed']\n",
    "df['Recovery_Rate'] = df['Recovered'] / df['Confirmed']\n",
    "df.replace([np.inf, -np.inf], np.nan, inplace=True)\n",
    "df.fillna(0, inplace=True)"
   ]
  },
  {
   "cell_type": "code",
   "execution_count": 24,
   "metadata": {},
   "outputs": [],
   "source": [
    "X = df[['Lat', 'Long', 'Confirmed', 'Deaths', 'Recovered', 'WHO_Region_encoded', 'Country_Region_encoded', 'Mortality_Rate', 'Recovery_Rate']]\n",
    "y = df['Active']\n",
    "X_train, X_test, y_train, y_test = train_test_split(X, y, test_size=0.2, random_state=42)"
   ]
  },
  {
   "cell_type": "code",
   "execution_count": 25,
   "metadata": {},
   "outputs": [
    {
     "name": "stdout",
     "output_type": "stream",
     "text": [
      "Linear Regression:\n",
      "Mean Squared Error: 2.8155244806979266e-21\n",
      "R2 Score: 1.0\n",
      "\n",
      "Decision Tree Regressor:\n",
      "Mean Squared Error: 6357289.9799266355\n",
      "R2 Score: 0.9991529043379657\n",
      "\n",
      "Random Forest Regressor:\n",
      "Mean Squared Error: 3160418.055403037\n",
      "R2 Score: 0.9995788808700876\n",
      "\n",
      "Support Vector Regressor:\n",
      "Mean Squared Error: 7576633030.585236\n",
      "R2 Score: -0.009570586413505167\n",
      "\n",
      "K-Nearest Neighbors Regressor:\n",
      "Mean Squared Error: 4662746.414322393\n",
      "R2 Score: 0.9993786987421982\n",
      "\n",
      "Neural Network:\n",
      "Epoch 1/50\n",
      "982/982 [==============================] - 11s 8ms/step - loss: 4684674560.0000 - mean_squared_error: 4684674560.0000 - val_loss: 2836003584.0000 - val_mean_squared_error: 2836003584.0000\n",
      "Epoch 2/50\n",
      "982/982 [==============================] - 8s 8ms/step - loss: 1491482112.0000 - mean_squared_error: 1491482112.0000 - val_loss: 959461952.0000 - val_mean_squared_error: 959461952.0000\n",
      "Epoch 3/50\n",
      "982/982 [==============================] - 7s 8ms/step - loss: 868646656.0000 - mean_squared_error: 868646656.0000 - val_loss: 758083712.0000 - val_mean_squared_error: 758083712.0000\n",
      "Epoch 4/50\n",
      "982/982 [==============================] - 7s 7ms/step - loss: 725631296.0000 - mean_squared_error: 725631296.0000 - val_loss: 636246144.0000 - val_mean_squared_error: 636246144.0000\n",
      "Epoch 5/50\n",
      "982/982 [==============================] - 8s 8ms/step - loss: 620909824.0000 - mean_squared_error: 620909824.0000 - val_loss: 565980480.0000 - val_mean_squared_error: 565980480.0000\n",
      "Epoch 6/50\n",
      "982/982 [==============================] - 7s 7ms/step - loss: 548896704.0000 - mean_squared_error: 548896704.0000 - val_loss: 473768672.0000 - val_mean_squared_error: 473768672.0000\n",
      "Epoch 7/50\n",
      "982/982 [==============================] - 7s 8ms/step - loss: 472284576.0000 - mean_squared_error: 472284576.0000 - val_loss: 410937760.0000 - val_mean_squared_error: 410937760.0000\n",
      "Epoch 8/50\n",
      "982/982 [==============================] - 7s 7ms/step - loss: 415580512.0000 - mean_squared_error: 415580512.0000 - val_loss: 360062400.0000 - val_mean_squared_error: 360062400.0000\n",
      "Epoch 9/50\n",
      "982/982 [==============================] - 7s 7ms/step - loss: 363155648.0000 - mean_squared_error: 363155648.0000 - val_loss: 330274976.0000 - val_mean_squared_error: 330274976.0000\n",
      "Epoch 10/50\n",
      "982/982 [==============================] - 7s 7ms/step - loss: 327971104.0000 - mean_squared_error: 327971104.0000 - val_loss: 281252992.0000 - val_mean_squared_error: 281252992.0000\n",
      "Epoch 11/50\n",
      "982/982 [==============================] - 7s 8ms/step - loss: 287350272.0000 - mean_squared_error: 287350272.0000 - val_loss: 263740288.0000 - val_mean_squared_error: 263740288.0000\n",
      "Epoch 12/50\n",
      "982/982 [==============================] - 7s 7ms/step - loss: 256388480.0000 - mean_squared_error: 256388480.0000 - val_loss: 216000256.0000 - val_mean_squared_error: 216000256.0000\n",
      "Epoch 13/50\n",
      "982/982 [==============================] - 7s 8ms/step - loss: 221473792.0000 - mean_squared_error: 221473792.0000 - val_loss: 191742976.0000 - val_mean_squared_error: 191742976.0000\n",
      "Epoch 14/50\n",
      "982/982 [==============================] - 7s 8ms/step - loss: 196027152.0000 - mean_squared_error: 196027152.0000 - val_loss: 169948800.0000 - val_mean_squared_error: 169948800.0000\n",
      "Epoch 15/50\n",
      "982/982 [==============================] - 7s 7ms/step - loss: 170610608.0000 - mean_squared_error: 170610608.0000 - val_loss: 152359328.0000 - val_mean_squared_error: 152359328.0000\n",
      "Epoch 16/50\n",
      "982/982 [==============================] - 8s 8ms/step - loss: 147513392.0000 - mean_squared_error: 147513392.0000 - val_loss: 147869792.0000 - val_mean_squared_error: 147869792.0000\n",
      "Epoch 17/50\n",
      "982/982 [==============================] - 8s 9ms/step - loss: 135300976.0000 - mean_squared_error: 135300976.0000 - val_loss: 145366656.0000 - val_mean_squared_error: 145366656.0000\n",
      "Epoch 18/50\n",
      "982/982 [==============================] - 8s 8ms/step - loss: 121621776.0000 - mean_squared_error: 121621776.0000 - val_loss: 138257632.0000 - val_mean_squared_error: 138257632.0000\n",
      "Epoch 19/50\n",
      "982/982 [==============================] - 8s 8ms/step - loss: 110943408.0000 - mean_squared_error: 110943408.0000 - val_loss: 116671592.0000 - val_mean_squared_error: 116671592.0000\n",
      "Epoch 20/50\n",
      "982/982 [==============================] - 8s 8ms/step - loss: 94770256.0000 - mean_squared_error: 94770256.0000 - val_loss: 96990800.0000 - val_mean_squared_error: 96990800.0000\n",
      "Epoch 21/50\n",
      "982/982 [==============================] - 8s 8ms/step - loss: 85439232.0000 - mean_squared_error: 85439232.0000 - val_loss: 98352488.0000 - val_mean_squared_error: 98352488.0000\n",
      "Epoch 22/50\n",
      "982/982 [==============================] - 8s 8ms/step - loss: 74309112.0000 - mean_squared_error: 74309112.0000 - val_loss: 71020840.0000 - val_mean_squared_error: 71020840.0000\n",
      "Epoch 23/50\n",
      "982/982 [==============================] - 8s 8ms/step - loss: 57264924.0000 - mean_squared_error: 57264924.0000 - val_loss: 85883104.0000 - val_mean_squared_error: 85883104.0000\n",
      "Epoch 24/50\n",
      "982/982 [==============================] - 8s 8ms/step - loss: 55344184.0000 - mean_squared_error: 55344184.0000 - val_loss: 54841068.0000 - val_mean_squared_error: 54841068.0000\n",
      "Epoch 25/50\n",
      "982/982 [==============================] - 8s 8ms/step - loss: 45380212.0000 - mean_squared_error: 45380212.0000 - val_loss: 55223988.0000 - val_mean_squared_error: 55223988.0000\n",
      "Epoch 26/50\n",
      "982/982 [==============================] - 8s 8ms/step - loss: 40753000.0000 - mean_squared_error: 40753000.0000 - val_loss: 50916220.0000 - val_mean_squared_error: 50916220.0000\n",
      "Epoch 27/50\n",
      "982/982 [==============================] - 8s 8ms/step - loss: 37630852.0000 - mean_squared_error: 37630852.0000 - val_loss: 39806100.0000 - val_mean_squared_error: 39806100.0000\n",
      "Epoch 28/50\n",
      "982/982 [==============================] - 11s 11ms/step - loss: 34455792.0000 - mean_squared_error: 34455792.0000 - val_loss: 36378696.0000 - val_mean_squared_error: 36378696.0000\n",
      "Epoch 29/50\n",
      "982/982 [==============================] - 8s 8ms/step - loss: 30387876.0000 - mean_squared_error: 30387876.0000 - val_loss: 34225136.0000 - val_mean_squared_error: 34225136.0000\n",
      "Epoch 30/50\n",
      "982/982 [==============================] - 8s 8ms/step - loss: 24559996.0000 - mean_squared_error: 24559996.0000 - val_loss: 28868318.0000 - val_mean_squared_error: 28868318.0000\n",
      "Epoch 31/50\n",
      "982/982 [==============================] - 8s 8ms/step - loss: 23423764.0000 - mean_squared_error: 23423764.0000 - val_loss: 22645880.0000 - val_mean_squared_error: 22645880.0000\n",
      "Epoch 32/50\n",
      "982/982 [==============================] - 8s 8ms/step - loss: 21927814.0000 - mean_squared_error: 21927814.0000 - val_loss: 24635380.0000 - val_mean_squared_error: 24635380.0000\n",
      "Epoch 33/50\n",
      "982/982 [==============================] - 8s 8ms/step - loss: 16850696.0000 - mean_squared_error: 16850696.0000 - val_loss: 20261578.0000 - val_mean_squared_error: 20261578.0000\n",
      "Epoch 34/50\n",
      "982/982 [==============================] - 8s 8ms/step - loss: 18421934.0000 - mean_squared_error: 18421934.0000 - val_loss: 20836836.0000 - val_mean_squared_error: 20836836.0000\n",
      "Epoch 35/50\n",
      "982/982 [==============================] - 8s 8ms/step - loss: 15356717.0000 - mean_squared_error: 15356717.0000 - val_loss: 17566084.0000 - val_mean_squared_error: 17566084.0000\n",
      "Epoch 36/50\n",
      "982/982 [==============================] - 8s 8ms/step - loss: 12766296.0000 - mean_squared_error: 12766296.0000 - val_loss: 23707232.0000 - val_mean_squared_error: 23707232.0000\n",
      "Epoch 37/50\n",
      "982/982 [==============================] - 8s 8ms/step - loss: 11356737.0000 - mean_squared_error: 11356737.0000 - val_loss: 10683560.0000 - val_mean_squared_error: 10683560.0000\n",
      "Epoch 38/50\n",
      "982/982 [==============================] - 8s 8ms/step - loss: 10296058.0000 - mean_squared_error: 10296058.0000 - val_loss: 10046218.0000 - val_mean_squared_error: 10046218.0000\n",
      "Epoch 39/50\n",
      "982/982 [==============================] - 8s 8ms/step - loss: 8313116.5000 - mean_squared_error: 8313116.5000 - val_loss: 15123691.0000 - val_mean_squared_error: 15123691.0000\n",
      "Epoch 40/50\n",
      "982/982 [==============================] - 8s 8ms/step - loss: 8755675.0000 - mean_squared_error: 8755675.0000 - val_loss: 9829854.0000 - val_mean_squared_error: 9829854.0000\n",
      "Epoch 41/50\n",
      "982/982 [==============================] - 8s 8ms/step - loss: 6963009.5000 - mean_squared_error: 6963009.5000 - val_loss: 9876937.0000 - val_mean_squared_error: 9876937.0000\n",
      "Epoch 42/50\n",
      "982/982 [==============================] - 7s 7ms/step - loss: 4616267.0000 - mean_squared_error: 4616267.0000 - val_loss: 6477839.0000 - val_mean_squared_error: 6477839.0000\n",
      "Epoch 43/50\n",
      "982/982 [==============================] - 8s 8ms/step - loss: 6482224.0000 - mean_squared_error: 6482224.0000 - val_loss: 5617710.5000 - val_mean_squared_error: 5617710.5000\n",
      "Epoch 44/50\n",
      "982/982 [==============================] - 8s 8ms/step - loss: 4421800.0000 - mean_squared_error: 4421800.0000 - val_loss: 5375385.0000 - val_mean_squared_error: 5375385.0000\n",
      "Epoch 45/50\n",
      "982/982 [==============================] - 8s 8ms/step - loss: 4079113.5000 - mean_squared_error: 4079113.5000 - val_loss: 4151738.5000 - val_mean_squared_error: 4151738.5000\n",
      "Epoch 46/50\n",
      "982/982 [==============================] - 8s 8ms/step - loss: 3879330.2500 - mean_squared_error: 3879330.2500 - val_loss: 2509687.5000 - val_mean_squared_error: 2509687.5000\n",
      "Epoch 47/50\n",
      "982/982 [==============================] - 8s 8ms/step - loss: 2902676.5000 - mean_squared_error: 2902676.5000 - val_loss: 2357769.5000 - val_mean_squared_error: 2357769.5000\n",
      "Epoch 48/50\n",
      "982/982 [==============================] - 8s 9ms/step - loss: 1956509.2500 - mean_squared_error: 1956509.2500 - val_loss: 2333677.0000 - val_mean_squared_error: 2333677.0000\n",
      "Epoch 49/50\n",
      "982/982 [==============================] - 8s 8ms/step - loss: 3140605.5000 - mean_squared_error: 3140605.5000 - val_loss: 2320015.0000 - val_mean_squared_error: 2320015.0000\n",
      "Epoch 50/50\n",
      "982/982 [==============================] - 9s 9ms/step - loss: 1700538.0000 - mean_squared_error: 1700538.0000 - val_loss: 1285720.1250 - val_mean_squared_error: 1285720.1250\n",
      "307/307 [==============================] - 2s 6ms/step - loss: 1626874.6250 - mean_squared_error: 1626874.6250\n",
      "Neural Network Mean Squared Error: 1626874.625\n",
      "307/307 [==============================] - 2s 5ms/step\n"
     ]
    }
   ],
   "source": [
    "\n",
    "\n",
    "scaler = StandardScaler()\n",
    "X_train_scaled = scaler.fit_transform(X_train)\n",
    "X_test_scaled = scaler.transform(X_test)\n",
    "\n",
    "def evaluate_model(model, X_test, y_test):\n",
    "    y_pred = model.predict(X_test)\n",
    "    mse = mean_squared_error(y_test, y_pred)\n",
    "    r2 = r2_score(y_test, y_pred)\n",
    "    print(f'Mean Squared Error: {mse}')\n",
    "    print(f'R2 Score: {r2}')\n",
    "    return y_pred\n",
    "\n",
    "# 6.1 Linear Regression\n",
    "print(\"Linear Regression:\")\n",
    "lr_model = LinearRegression()\n",
    "lr_model.fit(X_train_scaled, y_train)\n",
    "y_pred_lr = evaluate_model(lr_model, X_test_scaled, y_test)\n",
    "\n",
    "# 6.2 Decision Tree Regressor\n",
    "print(\"\\nDecision Tree Regressor:\")\n",
    "dt_model = DecisionTreeRegressor()\n",
    "dt_model.fit(X_train_scaled, y_train)\n",
    "y_pred_dt = evaluate_model(dt_model, X_test_scaled, y_test)\n",
    "\n",
    "# 6.3 Random Forest Regressor\n",
    "print(\"\\nRandom Forest Regressor:\")\n",
    "rf_model = RandomForestRegressor(n_estimators=100)\n",
    "rf_model.fit(X_train_scaled, y_train)\n",
    "y_pred_rf = evaluate_model(rf_model, X_test_scaled, y_test)\n",
    "\n",
    "# 6.4 Support Vector Regressor\n",
    "print(\"\\nSupport Vector Regressor:\")\n",
    "svr_model = SVR(kernel='rbf')\n",
    "svr_model.fit(X_train_scaled, y_train)\n",
    "y_pred_svr = evaluate_model(svr_model, X_test_scaled, y_test)\n",
    "\n",
    "# 6.5 K-Nearest Neighbors Regressor\n",
    "print(\"\\nK-Nearest Neighbors Regressor:\")\n",
    "knn_model = KNeighborsRegressor(n_neighbors=5)\n",
    "knn_model.fit(X_train_scaled, y_train)\n",
    "y_pred_knn = evaluate_model(knn_model, X_test_scaled, y_test)\n",
    "\n",
    "# 6.6 Neural Network\n",
    "print(\"\\nNeural Network:\")\n",
    "nn_model = Sequential([\n",
    "    Dense(128, activation='relu', input_shape=(X_train_scaled.shape[1],)),\n",
    "    Dense(64, activation='relu'),\n",
    "    Dense(32, activation='relu'),\n",
    "    Dense(1)\n",
    "])\n",
    "nn_model.compile(optimizer='adam', loss='mean_squared_error', metrics=['mean_squared_error'])\n",
    "history = nn_model.fit(X_train_scaled, y_train, epochs=50, batch_size=32, validation_split=0.2, verbose=1)\n",
    "nn_loss, nn_mse = nn_model.evaluate(X_test_scaled, y_test)\n",
    "print(f'Neural Network Mean Squared Error: {nn_mse}')\n",
    "y_pred_nn = nn_model.predict(X_test_scaled)\n"
   ]
  },
  {
   "cell_type": "code",
   "execution_count": 26,
   "metadata": {},
   "outputs": [
    {
     "data": {
      "image/png": "[encoded data removed]",
      "text/plain": [
       "<Figure size 1000x500 with 1 Axes>"
      ]
     },
     "metadata": {},
     "output_type": "display_data"
    },
    {
     "data": {
      "image/png": "[encoded data removed]",
      "text/plain": [
       "<Figure size 1000x500 with 1 Axes>"
      ]
     },
     "metadata": {},
     "output_type": "display_data"
    },
    {
     "data": {
      "image/png": "[encoded data removed]",
      "text/plain": [
       "<Figure size 1000x500 with 1 Axes>"
      ]
     },
     "metadata": {},
     "output_type": "display_data"
    },
    {
     "data": {
      "image/png": "[encoded data removed]",
      "text/plain": [
       "<Figure size 1000x500 with 1 Axes>"
      ]
     },
     "metadata": {},
     "output_type": "display_data"
    },
    {
     "data": {
      "image/png": "[encoded data removed]",
      "text/plain": [
       "<Figure size 1000x500 with 1 Axes>"
      ]
     },
     "metadata": {},
     "output_type": "display_data"
    },
    {
     "data": {
      "image/png": "[encoded data removed]",
      "text/plain": [
       "<Figure size 1000x500 with 1 Axes>"
      ]
     },
     "metadata": {},
     "output_type": "display_data"
    },
    {
     "data": {
      "image/png": "[encoded data removed]",
      "text/plain": [
       "<Figure size 1000x500 with 1 Axes>"
      ]
     },
     "metadata": {},
     "output_type": "display_data"
    },
    {
     "data": {
      "image/png": "[encoded data removed]",
      "text/plain": [
       "<Figure size 1400x500 with 2 Axes>"
      ]
     },
     "metadata": {},
     "output_type": "display_data"
    }
   ],
   "source": [
    "\n",
    "def plot_actual_vs_predicted(y_test, y_pred, model_name):\n",
    "    plt.figure(figsize=(10, 5))\n",
    "    plt.scatter(y_test, y_pred, alpha=0.3)\n",
    "    plt.plot([y_test.min(), y_test.max()], [y_test.min(), y_test.max()], 'k--', lw=3)\n",
    "    plt.xlabel('Actual')\n",
    "    plt.ylabel('Predicted')\n",
    "    plt.title(f'Actual vs Predicted values for {model_name}')\n",
    "    plt.show()\n",
    "\n",
    "def plot_model_performance(models, mse_scores):\n",
    "    plt.figure(figsize=(10, 5))\n",
    "    sns.barplot(x=models, y=mse_scores)\n",
    "    plt.xlabel('Model')\n",
    "    plt.ylabel('Mean Squared Error')\n",
    "    plt.title('Model Performance Comparison')\n",
    "    plt.show()\n",
    "\n",
    "def plot_learning_curves(history):\n",
    "    plt.figure(figsize=(14, 5))\n",
    "    plt.subplot(1, 2, 1)\n",
    "    plt.plot(history.history['mean_squared_error'], label='Training MSE')\n",
    "    plt.plot(history.history['val_mean_squared_error'], label='Validation MSE')\n",
    "    plt.xlabel('Epochs')\n",
    "    plt.ylabel('Mean Squared Error')\n",
    "    plt.title('Training and Validation MSE')\n",
    "    plt.legend()\n",
    "    plt.subplot(1, 2, 2)\n",
    "    plt.plot(history.history['loss'], label='Training Loss')\n",
    "    plt.plot(history.history['val_loss'], label='Validation Loss')\n",
    "    plt.xlabel('Epochs')\n",
    "    plt.ylabel('Loss')\n",
    "    plt.title('Training and Validation Loss')\n",
    "    plt.legend()\n",
    "    plt.show()\n",
    "\n",
    "plot_actual_vs_predicted(y_test, y_pred_lr, \"Linear Regression\")\n",
    "plot_actual_vs_predicted(y_test, y_pred_dt, \"Decision Tree Regressor\")\n",
    "plot_actual_vs_predicted(y_test, y_pred_rf, \"Random Forest Regressor\")\n",
    "plot_actual_vs_predicted(y_test, y_pred_svr, \"Support Vector Regressor\")\n",
    "plot_actual_vs_predicted(y_test, y_pred_knn, \"K-Nearest Neighbors Regressor\")\n",
    "plot_actual_vs_predicted(y_test, y_pred_nn, \"Neural Network\")\n",
    "\n",
    "models = ['Linear Regression', 'Decision Tree', 'Random Forest', 'SVM', 'KNN', 'Neural Network']\n",
    "mse_scores = [\n",
    "    mean_squared_error(y_test, y_pred_lr),\n",
    "    mean_squared_error(y_test, y_pred_dt),\n",
    "    mean_squared_error(y_test, y_pred_rf),\n",
    "    mean_squared_error(y_test, y_pred_svr),\n",
    "    mean_squared_error(y_test, y_pred_knn),\n",
    "    nn_mse\n",
    "]\n",
    "plot_model_performance(models, mse_scores)\n",
    "plot_learning_curves(history)\n"
   ]
  },
  {
   "cell_type": "code",
   "execution_count": null,
   "metadata": {},
   "outputs": [],
   "source": []
  }
 ],
 "metadata": {
  "kernelspec": {
   "display_name": "base",
   "language": "python",
   "name": "python3"
  },
  "language_info": {
   "codemirror_mode": {
    "name": "ipython",
    "version": 3
   },
   "file_extension": ".py",
   "mimetype": "text/x-python",
   "name": "python",
   "nbconvert_exporter": "python",
   "pygments_lexer": "ipython3",
   "version": "3.11.5"
  }
 },
 "nbformat": 4,
 "nbformat_minor": 2
}
